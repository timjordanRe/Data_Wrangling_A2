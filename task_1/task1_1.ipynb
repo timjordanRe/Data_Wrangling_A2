{
 "cells": [
  {
   "cell_type": "markdown",
   "metadata": {},
   "source": [
    "## 1.1 Detecting and Fixing Errors in dirty_data.csv "
   ]
  },
  {
   "cell_type": "markdown",
   "metadata": {},
   "source": [
    "General approach\n",
    "Look for potential dirty data in the following areas:\n",
    "- integrity constraints\n",
    "- data entry error\n",
    "- wrong categorical data\n",
    "- violation of referential integrity\n",
    "- duplicated data\n",
    "- go against value range\n",
    "- wrong encoding\n",
    "- wrong representations\n",
    "- wrong names and numbers"
   ]
  },
  {
   "cell_type": "markdown",
   "metadata": {},
   "source": [
    "Import necessary libraries"
   ]
  },
  {
   "cell_type": "code",
   "execution_count": 4,
   "metadata": {},
   "outputs": [],
   "source": [
    "import pandas as pd"
   ]
  },
  {
   "cell_type": "code",
   "execution_count": 5,
   "metadata": {},
   "outputs": [],
   "source": [
    "dirty_data_path = \"data\\Group109_dirty_data.csv\"\n",
    "branch_path = r\"data\\branches.csv\"\n",
    "edges_path = \"data\\edges.csv\"\n",
    "nodes_path = r\"data\\nodes.csv\"\n",
    "\n",
    "dirty_df = pd.read_csv(dirty_data_path)\n",
    "branch_df = pd.read_csv(branch_path)\n",
    "edges_df = pd.read_csv(edges_path)\n",
    "nodes_df = pd.read_csv(nodes_path)"
   ]
  },
  {
   "cell_type": "code",
   "execution_count": 6,
   "metadata": {},
   "outputs": [
    {
     "data": {
      "text/html": [
       "<div>\n",
       "<style scoped>\n",
       "    .dataframe tbody tr th:only-of-type {\n",
       "        vertical-align: middle;\n",
       "    }\n",
       "\n",
       "    .dataframe tbody tr th {\n",
       "        vertical-align: top;\n",
       "    }\n",
       "\n",
       "    .dataframe thead th {\n",
       "        text-align: right;\n",
       "    }\n",
       "</style>\n",
       "<table border=\"1\" class=\"dataframe\">\n",
       "  <thead>\n",
       "    <tr style=\"text-align: right;\">\n",
       "      <th></th>\n",
       "      <th>branch_code</th>\n",
       "      <th>branch_name</th>\n",
       "      <th>branch_lat</th>\n",
       "      <th>branch_lon</th>\n",
       "    </tr>\n",
       "  </thead>\n",
       "  <tbody>\n",
       "    <tr>\n",
       "      <th>0</th>\n",
       "      <td>NS</td>\n",
       "      <td>Nickolson</td>\n",
       "      <td>-37.773803</td>\n",
       "      <td>144.983647</td>\n",
       "    </tr>\n",
       "    <tr>\n",
       "      <th>1</th>\n",
       "      <td>TP</td>\n",
       "      <td>Thompson</td>\n",
       "      <td>-37.861835</td>\n",
       "      <td>144.905716</td>\n",
       "    </tr>\n",
       "    <tr>\n",
       "      <th>2</th>\n",
       "      <td>BK</td>\n",
       "      <td>Bakers</td>\n",
       "      <td>-37.815834</td>\n",
       "      <td>145.046450</td>\n",
       "    </tr>\n",
       "  </tbody>\n",
       "</table>\n",
       "</div>"
      ],
      "text/plain": [
       "  branch_code branch_name  branch_lat  branch_lon\n",
       "0          NS   Nickolson  -37.773803  144.983647\n",
       "1          TP    Thompson  -37.861835  144.905716\n",
       "2          BK      Bakers  -37.815834  145.046450"
      ]
     },
     "execution_count": 6,
     "metadata": {},
     "output_type": "execute_result"
    }
   ],
   "source": [
    "branch_df"
   ]
  },
  {
   "cell_type": "code",
   "execution_count": 7,
   "metadata": {},
   "outputs": [
    {
     "name": "stdout",
     "output_type": "stream",
     "text": [
      "<class 'pandas.core.frame.DataFrame'>\n",
      "RangeIndex: 500 entries, 0 to 499\n",
      "Data columns (total 12 columns):\n",
      " #   Column                   Non-Null Count  Dtype  \n",
      "---  ------                   --------------  -----  \n",
      " 0   order_id                 500 non-null    object \n",
      " 1   date                     500 non-null    object \n",
      " 2   time                     500 non-null    object \n",
      " 3   order_type               500 non-null    object \n",
      " 4   branch_code              500 non-null    object \n",
      " 5   order_items              500 non-null    object \n",
      " 6   order_price              500 non-null    float64\n",
      " 7   customer_lat             500 non-null    float64\n",
      " 8   customer_lon             500 non-null    float64\n",
      " 9   customerHasloyalty?      500 non-null    int64  \n",
      " 10  distance_to_customer_KM  500 non-null    float64\n",
      " 11  delivery_fee             500 non-null    float64\n",
      "dtypes: float64(5), int64(1), object(6)\n",
      "memory usage: 47.0+ KB\n"
     ]
    }
   ],
   "source": [
    "dirty_df.info()"
   ]
  },
  {
   "cell_type": "code",
   "execution_count": 8,
   "metadata": {},
   "outputs": [
    {
     "data": {
      "text/html": [
       "<div>\n",
       "<style scoped>\n",
       "    .dataframe tbody tr th:only-of-type {\n",
       "        vertical-align: middle;\n",
       "    }\n",
       "\n",
       "    .dataframe tbody tr th {\n",
       "        vertical-align: top;\n",
       "    }\n",
       "\n",
       "    .dataframe thead th {\n",
       "        text-align: right;\n",
       "    }\n",
       "</style>\n",
       "<table border=\"1\" class=\"dataframe\">\n",
       "  <thead>\n",
       "    <tr style=\"text-align: right;\">\n",
       "      <th></th>\n",
       "      <th>order_price</th>\n",
       "      <th>customer_lat</th>\n",
       "      <th>customer_lon</th>\n",
       "      <th>customerHasloyalty?</th>\n",
       "      <th>distance_to_customer_KM</th>\n",
       "      <th>delivery_fee</th>\n",
       "    </tr>\n",
       "  </thead>\n",
       "  <tbody>\n",
       "    <tr>\n",
       "      <th>count</th>\n",
       "      <td>500.000000</td>\n",
       "      <td>500.000000</td>\n",
       "      <td>500.000000</td>\n",
       "      <td>500.000000</td>\n",
       "      <td>500.000000</td>\n",
       "      <td>500.000000</td>\n",
       "    </tr>\n",
       "    <tr>\n",
       "      <th>mean</th>\n",
       "      <td>480.712900</td>\n",
       "      <td>-30.753946</td>\n",
       "      <td>143.504403</td>\n",
       "      <td>0.102000</td>\n",
       "      <td>8.629274</td>\n",
       "      <td>13.877162</td>\n",
       "    </tr>\n",
       "    <tr>\n",
       "      <th>std</th>\n",
       "      <td>254.034843</td>\n",
       "      <td>25.337436</td>\n",
       "      <td>16.299630</td>\n",
       "      <td>0.302951</td>\n",
       "      <td>1.596279</td>\n",
       "      <td>2.378285</td>\n",
       "    </tr>\n",
       "    <tr>\n",
       "      <th>min</th>\n",
       "      <td>31.750000</td>\n",
       "      <td>-37.827188</td>\n",
       "      <td>-37.822231</td>\n",
       "      <td>0.000000</td>\n",
       "      <td>3.613000</td>\n",
       "      <td>5.646222</td>\n",
       "    </tr>\n",
       "    <tr>\n",
       "      <th>25%</th>\n",
       "      <td>300.625000</td>\n",
       "      <td>-37.818738</td>\n",
       "      <td>144.952786</td>\n",
       "      <td>0.000000</td>\n",
       "      <td>7.750500</td>\n",
       "      <td>12.660927</td>\n",
       "    </tr>\n",
       "    <tr>\n",
       "      <th>50%</th>\n",
       "      <td>434.250000</td>\n",
       "      <td>-37.811755</td>\n",
       "      <td>144.963914</td>\n",
       "      <td>0.000000</td>\n",
       "      <td>8.639500</td>\n",
       "      <td>13.849738</td>\n",
       "    </tr>\n",
       "    <tr>\n",
       "      <th>75%</th>\n",
       "      <td>633.250000</td>\n",
       "      <td>-37.804505</td>\n",
       "      <td>144.980037</td>\n",
       "      <td>0.000000</td>\n",
       "      <td>9.633500</td>\n",
       "      <td>15.229668</td>\n",
       "    </tr>\n",
       "    <tr>\n",
       "      <th>max</th>\n",
       "      <td>1361.500000</td>\n",
       "      <td>145.005221</td>\n",
       "      <td>145.015449</td>\n",
       "      <td>1.000000</td>\n",
       "      <td>13.735000</td>\n",
       "      <td>20.088572</td>\n",
       "    </tr>\n",
       "  </tbody>\n",
       "</table>\n",
       "</div>"
      ],
      "text/plain": [
       "       order_price  customer_lat  customer_lon  customerHasloyalty?  \\\n",
       "count   500.000000    500.000000    500.000000           500.000000   \n",
       "mean    480.712900    -30.753946    143.504403             0.102000   \n",
       "std     254.034843     25.337436     16.299630             0.302951   \n",
       "min      31.750000    -37.827188    -37.822231             0.000000   \n",
       "25%     300.625000    -37.818738    144.952786             0.000000   \n",
       "50%     434.250000    -37.811755    144.963914             0.000000   \n",
       "75%     633.250000    -37.804505    144.980037             0.000000   \n",
       "max    1361.500000    145.005221    145.015449             1.000000   \n",
       "\n",
       "       distance_to_customer_KM  delivery_fee  \n",
       "count               500.000000    500.000000  \n",
       "mean                  8.629274     13.877162  \n",
       "std                   1.596279      2.378285  \n",
       "min                   3.613000      5.646222  \n",
       "25%                   7.750500     12.660927  \n",
       "50%                   8.639500     13.849738  \n",
       "75%                   9.633500     15.229668  \n",
       "max                  13.735000     20.088572  "
      ]
     },
     "execution_count": 8,
     "metadata": {},
     "output_type": "execute_result"
    }
   ],
   "source": [
    "dirty_df.describe()"
   ]
  },
  {
   "cell_type": "code",
   "execution_count": 9,
   "metadata": {},
   "outputs": [
    {
     "data": {
      "text/html": [
       "<div>\n",
       "<style scoped>\n",
       "    .dataframe tbody tr th:only-of-type {\n",
       "        vertical-align: middle;\n",
       "    }\n",
       "\n",
       "    .dataframe tbody tr th {\n",
       "        vertical-align: top;\n",
       "    }\n",
       "\n",
       "    .dataframe thead th {\n",
       "        text-align: right;\n",
       "    }\n",
       "</style>\n",
       "<table border=\"1\" class=\"dataframe\">\n",
       "  <thead>\n",
       "    <tr style=\"text-align: right;\">\n",
       "      <th></th>\n",
       "      <th>order_id</th>\n",
       "      <th>date</th>\n",
       "      <th>time</th>\n",
       "      <th>order_type</th>\n",
       "      <th>branch_code</th>\n",
       "      <th>order_items</th>\n",
       "      <th>order_price</th>\n",
       "      <th>customer_lat</th>\n",
       "      <th>customer_lon</th>\n",
       "      <th>customerHasloyalty?</th>\n",
       "      <th>distance_to_customer_KM</th>\n",
       "      <th>delivery_fee</th>\n",
       "    </tr>\n",
       "  </thead>\n",
       "  <tbody>\n",
       "    <tr>\n",
       "      <th>0</th>\n",
       "      <td>ORDX02948</td>\n",
       "      <td>2018-03-11</td>\n",
       "      <td>10:11:49</td>\n",
       "      <td>Breakfast</td>\n",
       "      <td>BK</td>\n",
       "      <td>[('Cereal', 4), ('Eggs', 3), ('Coffee', 1), ('...</td>\n",
       "      <td>206.00</td>\n",
       "      <td>-37.805040</td>\n",
       "      <td>144.963243</td>\n",
       "      <td>0</td>\n",
       "      <td>7.615</td>\n",
       "      <td>14.403915</td>\n",
       "    </tr>\n",
       "    <tr>\n",
       "      <th>1</th>\n",
       "      <td>ORDC07988</td>\n",
       "      <td>2018-03-06</td>\n",
       "      <td>10:01:41</td>\n",
       "      <td>Breakfast</td>\n",
       "      <td>NS</td>\n",
       "      <td>[('Coffee', 2), ('Cereal', 5), ('Eggs', 10), (...</td>\n",
       "      <td>437.00</td>\n",
       "      <td>-37.815989</td>\n",
       "      <td>144.983435</td>\n",
       "      <td>0</td>\n",
       "      <td>8.914</td>\n",
       "      <td>13.807773</td>\n",
       "    </tr>\n",
       "    <tr>\n",
       "      <th>2</th>\n",
       "      <td>ORDI00568</td>\n",
       "      <td>2018-07-05</td>\n",
       "      <td>14:05:04</td>\n",
       "      <td>Lunch</td>\n",
       "      <td>NS</td>\n",
       "      <td>[('Fries', 6), ('Chicken', 5), ('Salad', 7), (...</td>\n",
       "      <td>507.40</td>\n",
       "      <td>-37.806281</td>\n",
       "      <td>144.941960</td>\n",
       "      <td>1</td>\n",
       "      <td>9.316</td>\n",
       "      <td>15.028384</td>\n",
       "    </tr>\n",
       "    <tr>\n",
       "      <th>3</th>\n",
       "      <td>ORDI06756</td>\n",
       "      <td>2018-04-23</td>\n",
       "      <td>11:43:05</td>\n",
       "      <td>Breakfast</td>\n",
       "      <td>NS</td>\n",
       "      <td>[('Coffee', 3), ('Pancake', 6), ('Eggs', 3)]</td>\n",
       "      <td>234.00</td>\n",
       "      <td>-37.822259</td>\n",
       "      <td>144.946977</td>\n",
       "      <td>0</td>\n",
       "      <td>9.975</td>\n",
       "      <td>15.217270</td>\n",
       "    </tr>\n",
       "    <tr>\n",
       "      <th>4</th>\n",
       "      <td>ORDX01986</td>\n",
       "      <td>2018-04-29</td>\n",
       "      <td>11:53:14</td>\n",
       "      <td>Breakfast</td>\n",
       "      <td>BK</td>\n",
       "      <td>[('Coffee', 6), ('Cereal', 1), ('Eggs', 2), ('...</td>\n",
       "      <td>134.25</td>\n",
       "      <td>-37.815950</td>\n",
       "      <td>144.986001</td>\n",
       "      <td>0</td>\n",
       "      <td>6.038</td>\n",
       "      <td>13.677500</td>\n",
       "    </tr>\n",
       "  </tbody>\n",
       "</table>\n",
       "</div>"
      ],
      "text/plain": [
       "    order_id        date      time order_type branch_code  \\\n",
       "0  ORDX02948  2018-03-11  10:11:49  Breakfast          BK   \n",
       "1  ORDC07988  2018-03-06  10:01:41  Breakfast          NS   \n",
       "2  ORDI00568  2018-07-05  14:05:04      Lunch          NS   \n",
       "3  ORDI06756  2018-04-23  11:43:05  Breakfast          NS   \n",
       "4  ORDX01986  2018-04-29  11:53:14  Breakfast          BK   \n",
       "\n",
       "                                         order_items  order_price  \\\n",
       "0  [('Cereal', 4), ('Eggs', 3), ('Coffee', 1), ('...       206.00   \n",
       "1  [('Coffee', 2), ('Cereal', 5), ('Eggs', 10), (...       437.00   \n",
       "2  [('Fries', 6), ('Chicken', 5), ('Salad', 7), (...       507.40   \n",
       "3       [('Coffee', 3), ('Pancake', 6), ('Eggs', 3)]       234.00   \n",
       "4  [('Coffee', 6), ('Cereal', 1), ('Eggs', 2), ('...       134.25   \n",
       "\n",
       "   customer_lat  customer_lon  customerHasloyalty?  distance_to_customer_KM  \\\n",
       "0    -37.805040    144.963243                    0                    7.615   \n",
       "1    -37.815989    144.983435                    0                    8.914   \n",
       "2    -37.806281    144.941960                    1                    9.316   \n",
       "3    -37.822259    144.946977                    0                    9.975   \n",
       "4    -37.815950    144.986001                    0                    6.038   \n",
       "\n",
       "   delivery_fee  \n",
       "0     14.403915  \n",
       "1     13.807773  \n",
       "2     15.028384  \n",
       "3     15.217270  \n",
       "4     13.677500  "
      ]
     },
     "execution_count": 9,
     "metadata": {},
     "output_type": "execute_result"
    }
   ],
   "source": [
    "dirty_df.head()"
   ]
  },
  {
   "cell_type": "markdown",
   "metadata": {},
   "source": [
    "As stated in the assignment brief, we will not be looking for any fixing values within the following columns as there are no errors in dirty data for them:\n",
    "- `order_id`\n",
    "- `time`\n",
    "- the numeric quantity in `order_items`\n",
    "- `delivery_fee`"
   ]
  },
  {
   "cell_type": "markdown",
   "metadata": {},
   "source": [
    "- [x] check if dates, time is properly formatted\n",
    "- [x] check if branch code is correct\n",
    "- [ ] check if order price makes sense according to number of items ordered\n",
    "- [ ] check if distance to customer is calculated properly in shortest distance\n",
    "- [ ] check if customer_lat and customer_lon exist in nodes\n",
    "- [x] check if order_type is correct according to time\n",
    "- [ ] check if customer does / does not have loyalty according to delivery fee ()\n",
    "\n",
    "\n",
    "Delivery fee is calculated using a different method for each branch.\n",
    "The fee depends linearly (but in different ways for each branch) on:\n",
    "a. weekend or weekday (1 or 0) - as a continuous variable\n",
    "b. time of the day (morning 0, afternoon 1, evening 2) - as a continuous variable\n",
    "c. distance between branch and customer\n"
   ]
  },
  {
   "cell_type": "code",
   "execution_count": 10,
   "metadata": {},
   "outputs": [
    {
     "data": {
      "text/plain": [
       "TP    169\n",
       "NS    163\n",
       "BK    144\n",
       "ns     11\n",
       "tp      7\n",
       "bk      6\n",
       "Name: branch_code, dtype: int64"
      ]
     },
     "execution_count": 10,
     "metadata": {},
     "output_type": "execute_result"
    }
   ],
   "source": [
    "dirty_df['branch_code'].value_counts()"
   ]
  },
  {
   "cell_type": "markdown",
   "metadata": {},
   "source": [
    "From the output above, we can see that some of the branch codes have been inputted in the wrong representation. Instead of being inputted in all uppercase, some of the values are shown as lowercase. We will need to perform data transformation on this column to convert all values to uppercase letters"
   ]
  },
  {
   "cell_type": "code",
   "execution_count": 11,
   "metadata": {},
   "outputs": [],
   "source": [
    "dirty_df['branch_code'] = dirty_df['branch_code'].apply(str.upper)"
   ]
  },
  {
   "cell_type": "markdown",
   "metadata": {},
   "source": [
    "According to the assignment brief, all string date values in column `date` should be in the format YYYY-MM-DD. We can verify if this is the case by using `pd.to_datetime` function on the `date` column and see if all date values fit the format `%Y-%m-%d`"
   ]
  },
  {
   "cell_type": "code",
   "execution_count": 12,
   "metadata": {},
   "outputs": [
    {
     "name": "stdout",
     "output_type": "stream",
     "text": [
      "Error occurred. Unable to convert the following date:\n",
      "time data 06-10-2018 doesn't match format specified\n"
     ]
    }
   ],
   "source": [
    "try:\n",
    "    pd.to_datetime(dirty_df['date'], format='%Y-%m-%d', errors='raise')\n",
    "except ValueError as e:\n",
    "    print(\"Error occurred. Unable to convert the following date:\")\n",
    "    print(e)\n",
    "else:\n",
    "    print('No error')"
   ]
  },
  {
   "cell_type": "markdown",
   "metadata": {},
   "source": [
    "As we can see, not all the date values are in the correct format. Therefore we will have to iterate through each date value and determine which one of the follow formats the date value can be in:\n",
    "1. YYYY-MM-DD\n",
    "2. DD-MM-YYYY\n",
    "3. YYYY-DD-MM"
   ]
  },
  {
   "cell_type": "code",
   "execution_count": 13,
   "metadata": {},
   "outputs": [],
   "source": [
    "for index, row in dirty_df.iterrows():\n",
    "    new_row = pd.Series(row)\n",
    "\n",
    "    # Check if date fits the format YYYY-MM-DD\n",
    "    try:\n",
    "        new_row = pd.to_datetime(row['date'], format='%Y-%m-%d')\n",
    "    except:\n",
    "        # If not, check if it fits the format YYYY-DD-MM\n",
    "        try: \n",
    "            new_row = pd.to_datetime(row['date'], format='%Y-%d-%m')\n",
    "        # Else, check if it fits the format DD-MM-YYYY\n",
    "        except:\n",
    "            new_row = pd.to_datetime(row['date'], format='%d-%m-%Y')\n",
    "    dirty_df.at[index, 'date'] = new_row\n",
    "\n",
    "dirty_df['date'] = pd.to_datetime(dirty_df['date'], format='%Y-%m-%d').dt.strftime('%Y-%m-%d')"
   ]
  },
  {
   "cell_type": "markdown",
   "metadata": {},
   "source": [
    "Now we evaluate the `order_type` column. Since we know for certain that the time column does not have any errors in it, we can verify if the `order_type` is correct according to the time. The order should be the following according to the times:\n",
    "- 08:00:00 - 12:00:00 = Breakfast\n",
    "- 12:00:01 - 16:00:00 = Lunch\n",
    "- 16:00:01 - 20:00:00 = Dinner"
   ]
  },
  {
   "cell_type": "code",
   "execution_count": 17,
   "metadata": {},
   "outputs": [
    {
     "data": {
      "text/plain": [
       "Breakfast    170\n",
       "Lunch        165\n",
       "Dinner       165\n",
       "Name: order_type, dtype: int64"
      ]
     },
     "execution_count": 17,
     "metadata": {},
     "output_type": "execute_result"
    }
   ],
   "source": [
    "dirty_df['order_type'].value_counts()"
   ]
  },
  {
   "cell_type": "markdown",
   "metadata": {},
   "source": [
    "To check if the correct order type has been inputted, we create the function `find_order-type`. It looks through each string time value in `time` column, converts this string into datetime format. Then we check the timestamp to see if it fits within the Breakfast, Lunch or Dinner time slots"
   ]
  },
  {
   "cell_type": "code",
   "execution_count": 18,
   "metadata": {},
   "outputs": [],
   "source": [
    "def find_order_type(time):\n",
    "    timestamp = pd.to_datetime(time, format='%H:%M:%S').time()\n",
    "    if timestamp >= pd.to_datetime('08:00:00').time() and timestamp <= pd.to_datetime('12:00:00').time():\n",
    "        return 'Breakfast'\n",
    "    elif timestamp >= pd.to_datetime('12:00:01').time() and timestamp < pd.to_datetime('16:00:00').time():\n",
    "        return 'Lunch'\n",
    "    elif timestamp >= pd.to_datetime('16:00:01').time() and timestamp <= pd.to_datetime('20:00:00').time():\n",
    "        return 'Dinner'\n",
    "    else:\n",
    "        return 'Error'"
   ]
  },
  {
   "cell_type": "code",
   "execution_count": 25,
   "metadata": {},
   "outputs": [
    {
     "data": {
      "text/html": [
       "<div>\n",
       "<style scoped>\n",
       "    .dataframe tbody tr th:only-of-type {\n",
       "        vertical-align: middle;\n",
       "    }\n",
       "\n",
       "    .dataframe tbody tr th {\n",
       "        vertical-align: top;\n",
       "    }\n",
       "\n",
       "    .dataframe thead th {\n",
       "        text-align: right;\n",
       "    }\n",
       "</style>\n",
       "<table border=\"1\" class=\"dataframe\">\n",
       "  <thead>\n",
       "    <tr style=\"text-align: right;\">\n",
       "      <th></th>\n",
       "      <th>order_id</th>\n",
       "      <th>date</th>\n",
       "      <th>time</th>\n",
       "      <th>order_type</th>\n",
       "      <th>branch_code</th>\n",
       "      <th>order_items</th>\n",
       "      <th>order_price</th>\n",
       "      <th>customer_lat</th>\n",
       "      <th>customer_lon</th>\n",
       "      <th>customerHasloyalty?</th>\n",
       "      <th>distance_to_customer_KM</th>\n",
       "      <th>delivery_fee</th>\n",
       "    </tr>\n",
       "  </thead>\n",
       "  <tbody>\n",
       "    <tr>\n",
       "      <th>14</th>\n",
       "      <td>ORDC09610</td>\n",
       "      <td>2018-10-06</td>\n",
       "      <td>17:07:36</td>\n",
       "      <td>Lunch</td>\n",
       "      <td>NS</td>\n",
       "      <td>[('Fish&amp;Chips', 5), ('Shrimp', 2), ('Pasta', 4)]</td>\n",
       "      <td>393.0</td>\n",
       "      <td>-37.826028</td>\n",
       "      <td>144.984514</td>\n",
       "      <td>0</td>\n",
       "      <td>9.578</td>\n",
       "      <td>17.378357</td>\n",
       "    </tr>\n",
       "    <tr>\n",
       "      <th>19</th>\n",
       "      <td>ORDC06273</td>\n",
       "      <td>2018-09-05</td>\n",
       "      <td>16:06:45</td>\n",
       "      <td>Lunch</td>\n",
       "      <td>NS</td>\n",
       "      <td>[('Pasta', 5), ('Shrimp', 10), ('Fish&amp;Chips', ...</td>\n",
       "      <td>1361.5</td>\n",
       "      <td>-37.814936</td>\n",
       "      <td>144.927351</td>\n",
       "      <td>0</td>\n",
       "      <td>10.813</td>\n",
       "      <td>16.896152</td>\n",
       "    </tr>\n",
       "    <tr>\n",
       "      <th>20</th>\n",
       "      <td>ORDB10659</td>\n",
       "      <td>2018-04-20</td>\n",
       "      <td>11:32:57</td>\n",
       "      <td>Dinner</td>\n",
       "      <td>TP</td>\n",
       "      <td>[('Eggs', 7), ('Coffee', 10), ('Cereal', 6), (...</td>\n",
       "      <td>597.5</td>\n",
       "      <td>-37.818900</td>\n",
       "      <td>144.952797</td>\n",
       "      <td>0</td>\n",
       "      <td>8.576</td>\n",
       "      <td>11.161592</td>\n",
       "    </tr>\n",
       "    <tr>\n",
       "      <th>37</th>\n",
       "      <td>ORDK01676</td>\n",
       "      <td>2018-03-16</td>\n",
       "      <td>10:21:58</td>\n",
       "      <td>Dinner</td>\n",
       "      <td>BK</td>\n",
       "      <td>[('Eggs', 2), ('Pancake', 2)]</td>\n",
       "      <td>92.5</td>\n",
       "      <td>-37.801158</td>\n",
       "      <td>144.957692</td>\n",
       "      <td>0</td>\n",
       "      <td>8.326</td>\n",
       "      <td>13.278789</td>\n",
       "    </tr>\n",
       "    <tr>\n",
       "      <th>54</th>\n",
       "      <td>ORDB10190</td>\n",
       "      <td>2018-10-08</td>\n",
       "      <td>17:17:44</td>\n",
       "      <td>Breakfast</td>\n",
       "      <td>TP</td>\n",
       "      <td>[('Fish&amp;Chips', 2), ('Salmon', 2)]</td>\n",
       "      <td>152.0</td>\n",
       "      <td>-37.813657</td>\n",
       "      <td>144.957285</td>\n",
       "      <td>0</td>\n",
       "      <td>8.419</td>\n",
       "      <td>13.088105</td>\n",
       "    </tr>\n",
       "  </tbody>\n",
       "</table>\n",
       "</div>"
      ],
      "text/plain": [
       "     order_id        date      time order_type branch_code  \\\n",
       "14  ORDC09610  2018-10-06  17:07:36      Lunch          NS   \n",
       "19  ORDC06273  2018-09-05  16:06:45      Lunch          NS   \n",
       "20  ORDB10659  2018-04-20  11:32:57     Dinner          TP   \n",
       "37  ORDK01676  2018-03-16  10:21:58     Dinner          BK   \n",
       "54  ORDB10190  2018-10-08  17:17:44  Breakfast          TP   \n",
       "\n",
       "                                          order_items  order_price  \\\n",
       "14   [('Fish&Chips', 5), ('Shrimp', 2), ('Pasta', 4)]        393.0   \n",
       "19  [('Pasta', 5), ('Shrimp', 10), ('Fish&Chips', ...       1361.5   \n",
       "20  [('Eggs', 7), ('Coffee', 10), ('Cereal', 6), (...        597.5   \n",
       "37                      [('Eggs', 2), ('Pancake', 2)]         92.5   \n",
       "54                 [('Fish&Chips', 2), ('Salmon', 2)]        152.0   \n",
       "\n",
       "    customer_lat  customer_lon  customerHasloyalty?  distance_to_customer_KM  \\\n",
       "14    -37.826028    144.984514                    0                    9.578   \n",
       "19    -37.814936    144.927351                    0                   10.813   \n",
       "20    -37.818900    144.952797                    0                    8.576   \n",
       "37    -37.801158    144.957692                    0                    8.326   \n",
       "54    -37.813657    144.957285                    0                    8.419   \n",
       "\n",
       "    delivery_fee  \n",
       "14     17.378357  \n",
       "19     16.896152  \n",
       "20     11.161592  \n",
       "37     13.278789  \n",
       "54     13.088105  "
      ]
     },
     "execution_count": 25,
     "metadata": {},
     "output_type": "execute_result"
    }
   ],
   "source": [
    "# output values where calculated order type does not match the order type in the dataset\n",
    "dirty_df[dirty_df['time'].apply(find_order_type) != dirty_df['order_type']].head()"
   ]
  },
  {
   "cell_type": "markdown",
   "metadata": {},
   "source": [
    "As shown above, there are orders in which order type has been incorrectly inputted according to the time. We can fix this issue by performing the following"
   ]
  },
  {
   "cell_type": "code",
   "execution_count": 26,
   "metadata": {},
   "outputs": [],
   "source": [
    "dirty_df['order_type'] = dirty_df['time'].apply(find_order_type)"
   ]
  },
  {
   "cell_type": "code",
   "execution_count": 29,
   "metadata": {},
   "outputs": [
    {
     "data": {
      "text/plain": [
       "Dinner       170\n",
       "Breakfast    166\n",
       "Lunch        164\n",
       "Name: order_type, dtype: int64"
      ]
     },
     "execution_count": 29,
     "metadata": {},
     "output_type": "execute_result"
    }
   ],
   "source": [
    "dirty_df['order_type'].value_counts()"
   ]
  },
  {
   "cell_type": "code",
   "execution_count": null,
   "metadata": {},
   "outputs": [],
   "source": []
  },
  {
   "cell_type": "markdown",
   "metadata": {},
   "source": [
    "Check if `distance_to_customer_KM` is correct"
   ]
  },
  {
   "cell_type": "code",
   "execution_count": 100,
   "metadata": {},
   "outputs": [
    {
     "data": {
      "text/html": [
       "<div>\n",
       "<style scoped>\n",
       "    .dataframe tbody tr th:only-of-type {\n",
       "        vertical-align: middle;\n",
       "    }\n",
       "\n",
       "    .dataframe tbody tr th {\n",
       "        vertical-align: top;\n",
       "    }\n",
       "\n",
       "    .dataframe thead th {\n",
       "        text-align: right;\n",
       "    }\n",
       "</style>\n",
       "<table border=\"1\" class=\"dataframe\">\n",
       "  <thead>\n",
       "    <tr style=\"text-align: right;\">\n",
       "      <th></th>\n",
       "      <th>order_id</th>\n",
       "      <th>date</th>\n",
       "      <th>time</th>\n",
       "      <th>order_type</th>\n",
       "      <th>branch_code</th>\n",
       "      <th>order_items</th>\n",
       "      <th>order_price</th>\n",
       "      <th>customer_lat</th>\n",
       "      <th>customer_lon</th>\n",
       "      <th>customerHasloyalty?</th>\n",
       "      <th>distance_to_customer_KM</th>\n",
       "      <th>delivery_fee</th>\n",
       "    </tr>\n",
       "  </thead>\n",
       "  <tbody>\n",
       "    <tr>\n",
       "      <th>0</th>\n",
       "      <td>ORDX02948</td>\n",
       "      <td>2018-03-11</td>\n",
       "      <td>10:11:49</td>\n",
       "      <td>Breakfast</td>\n",
       "      <td>BK</td>\n",
       "      <td>[(Cereal, 4), (Eggs, 3), (Coffee, 1), (Pancake...</td>\n",
       "      <td>206.00</td>\n",
       "      <td>-37.805040</td>\n",
       "      <td>144.963243</td>\n",
       "      <td>0</td>\n",
       "      <td>7.615</td>\n",
       "      <td>14.403915</td>\n",
       "    </tr>\n",
       "    <tr>\n",
       "      <th>1</th>\n",
       "      <td>ORDC07988</td>\n",
       "      <td>2018-03-06</td>\n",
       "      <td>10:01:41</td>\n",
       "      <td>Breakfast</td>\n",
       "      <td>NS</td>\n",
       "      <td>[(Coffee, 2), (Cereal, 5), (Eggs, 10), (Pancak...</td>\n",
       "      <td>437.00</td>\n",
       "      <td>-37.815989</td>\n",
       "      <td>144.983435</td>\n",
       "      <td>0</td>\n",
       "      <td>8.914</td>\n",
       "      <td>13.807773</td>\n",
       "    </tr>\n",
       "    <tr>\n",
       "      <th>2</th>\n",
       "      <td>ORDI00568</td>\n",
       "      <td>2018-07-05</td>\n",
       "      <td>14:05:04</td>\n",
       "      <td>Lunch</td>\n",
       "      <td>NS</td>\n",
       "      <td>[(Fries, 6), (Chicken, 5), (Salad, 7), (Burger...</td>\n",
       "      <td>507.40</td>\n",
       "      <td>-37.806281</td>\n",
       "      <td>144.941960</td>\n",
       "      <td>1</td>\n",
       "      <td>9.316</td>\n",
       "      <td>15.028384</td>\n",
       "    </tr>\n",
       "    <tr>\n",
       "      <th>3</th>\n",
       "      <td>ORDI06756</td>\n",
       "      <td>2018-04-23</td>\n",
       "      <td>11:43:05</td>\n",
       "      <td>Breakfast</td>\n",
       "      <td>NS</td>\n",
       "      <td>[(Coffee, 3), (Pancake, 6), (Eggs, 3)]</td>\n",
       "      <td>234.00</td>\n",
       "      <td>-37.822259</td>\n",
       "      <td>144.946977</td>\n",
       "      <td>0</td>\n",
       "      <td>9.975</td>\n",
       "      <td>15.217270</td>\n",
       "    </tr>\n",
       "    <tr>\n",
       "      <th>4</th>\n",
       "      <td>ORDX01986</td>\n",
       "      <td>2018-04-29</td>\n",
       "      <td>11:53:14</td>\n",
       "      <td>Breakfast</td>\n",
       "      <td>BK</td>\n",
       "      <td>[(Coffee, 6), (Cereal, 1), (Eggs, 2), (Pancake...</td>\n",
       "      <td>134.25</td>\n",
       "      <td>-37.815950</td>\n",
       "      <td>144.986001</td>\n",
       "      <td>0</td>\n",
       "      <td>6.038</td>\n",
       "      <td>13.677500</td>\n",
       "    </tr>\n",
       "  </tbody>\n",
       "</table>\n",
       "</div>"
      ],
      "text/plain": [
       "    order_id        date      time order_type branch_code  \\\n",
       "0  ORDX02948  2018-03-11  10:11:49  Breakfast          BK   \n",
       "1  ORDC07988  2018-03-06  10:01:41  Breakfast          NS   \n",
       "2  ORDI00568  2018-07-05  14:05:04      Lunch          NS   \n",
       "3  ORDI06756  2018-04-23  11:43:05  Breakfast          NS   \n",
       "4  ORDX01986  2018-04-29  11:53:14  Breakfast          BK   \n",
       "\n",
       "                                         order_items  order_price  \\\n",
       "0  [(Cereal, 4), (Eggs, 3), (Coffee, 1), (Pancake...       206.00   \n",
       "1  [(Coffee, 2), (Cereal, 5), (Eggs, 10), (Pancak...       437.00   \n",
       "2  [(Fries, 6), (Chicken, 5), (Salad, 7), (Burger...       507.40   \n",
       "3             [(Coffee, 3), (Pancake, 6), (Eggs, 3)]       234.00   \n",
       "4  [(Coffee, 6), (Cereal, 1), (Eggs, 2), (Pancake...       134.25   \n",
       "\n",
       "   customer_lat  customer_lon  customerHasloyalty?  distance_to_customer_KM  \\\n",
       "0    -37.805040    144.963243                    0                    7.615   \n",
       "1    -37.815989    144.983435                    0                    8.914   \n",
       "2    -37.806281    144.941960                    1                    9.316   \n",
       "3    -37.822259    144.946977                    0                    9.975   \n",
       "4    -37.815950    144.986001                    0                    6.038   \n",
       "\n",
       "   delivery_fee  \n",
       "0     14.403915  \n",
       "1     13.807773  \n",
       "2     15.028384  \n",
       "3     15.217270  \n",
       "4     13.677500  "
      ]
     },
     "execution_count": 100,
     "metadata": {},
     "output_type": "execute_result"
    }
   ],
   "source": [
    "dirty_df.head()"
   ]
  },
  {
   "cell_type": "code",
   "execution_count": 98,
   "metadata": {},
   "outputs": [],
   "source": [
    "import networkx as nx"
   ]
  },
  {
   "cell_type": "code",
   "execution_count": 103,
   "metadata": {},
   "outputs": [],
   "source": [
    "G = nx.Graph()"
   ]
  },
  {
   "cell_type": "code",
   "execution_count": 104,
   "metadata": {},
   "outputs": [],
   "source": [
    "G.add_nodes_from(nodes_df['node'])"
   ]
  },
  {
   "cell_type": "code",
   "execution_count": 113,
   "metadata": {},
   "outputs": [
    {
     "data": {
      "text/html": [
       "<div>\n",
       "<style scoped>\n",
       "    .dataframe tbody tr th:only-of-type {\n",
       "        vertical-align: middle;\n",
       "    }\n",
       "\n",
       "    .dataframe tbody tr th {\n",
       "        vertical-align: top;\n",
       "    }\n",
       "\n",
       "    .dataframe thead th {\n",
       "        text-align: right;\n",
       "    }\n",
       "</style>\n",
       "<table border=\"1\" class=\"dataframe\">\n",
       "  <thead>\n",
       "    <tr style=\"text-align: right;\">\n",
       "      <th></th>\n",
       "      <th>branch_code</th>\n",
       "      <th>branch_name</th>\n",
       "      <th>branch_lat</th>\n",
       "      <th>branch_lon</th>\n",
       "    </tr>\n",
       "  </thead>\n",
       "  <tbody>\n",
       "    <tr>\n",
       "      <th>0</th>\n",
       "      <td>NS</td>\n",
       "      <td>Nickolson</td>\n",
       "      <td>-37.773803</td>\n",
       "      <td>144.983647</td>\n",
       "    </tr>\n",
       "    <tr>\n",
       "      <th>1</th>\n",
       "      <td>TP</td>\n",
       "      <td>Thompson</td>\n",
       "      <td>-37.861835</td>\n",
       "      <td>144.905716</td>\n",
       "    </tr>\n",
       "    <tr>\n",
       "      <th>2</th>\n",
       "      <td>BK</td>\n",
       "      <td>Bakers</td>\n",
       "      <td>-37.815834</td>\n",
       "      <td>145.046450</td>\n",
       "    </tr>\n",
       "  </tbody>\n",
       "</table>\n",
       "</div>"
      ],
      "text/plain": [
       "  branch_code branch_name  branch_lat  branch_lon\n",
       "0          NS   Nickolson  -37.773803  144.983647\n",
       "1          TP    Thompson  -37.861835  144.905716\n",
       "2          BK      Bakers  -37.815834  145.046450"
      ]
     },
     "execution_count": 113,
     "metadata": {},
     "output_type": "execute_result"
    }
   ],
   "source": [
    "branch_df"
   ]
  },
  {
   "cell_type": "code",
   "execution_count": 109,
   "metadata": {},
   "outputs": [],
   "source": [
    "for index, row in edges_df.iterrows():\n",
    "    G.add_edge(row['u'], row['v'], weight=row['distance(m)'])"
   ]
  },
  {
   "cell_type": "code",
   "execution_count": 125,
   "metadata": {},
   "outputs": [],
   "source": [
    "branch_lat = branch_df[branch_df['branch_code'] == dirty_df.loc[0]['branch_code']]['branch_lat'].values[0]\n",
    "branch_lon = branch_df[branch_df['branch_code'] == dirty_df.loc[0]['branch_code']]['branch_lon'].values[0]\n"
   ]
  },
  {
   "cell_type": "code",
   "execution_count": 136,
   "metadata": {},
   "outputs": [
    {
     "data": {
      "text/plain": [
       "0        False\n",
       "1        False\n",
       "2        False\n",
       "3        False\n",
       "4        False\n",
       "         ...  \n",
       "17112    False\n",
       "17113    False\n",
       "17114    False\n",
       "17115    False\n",
       "17116    False\n",
       "Name: lon, Length: 17117, dtype: bool"
      ]
     },
     "execution_count": 136,
     "metadata": {},
     "output_type": "execute_result"
    }
   ],
   "source": [
    "nodes_df['lon'] == branch_lon"
   ]
  },
  {
   "cell_type": "code",
   "execution_count": 139,
   "metadata": {},
   "outputs": [
    {
     "data": {
      "text/html": [
       "<div>\n",
       "<style scoped>\n",
       "    .dataframe tbody tr th:only-of-type {\n",
       "        vertical-align: middle;\n",
       "    }\n",
       "\n",
       "    .dataframe tbody tr th {\n",
       "        vertical-align: top;\n",
       "    }\n",
       "\n",
       "    .dataframe thead th {\n",
       "        text-align: right;\n",
       "    }\n",
       "</style>\n",
       "<table border=\"1\" class=\"dataframe\">\n",
       "  <thead>\n",
       "    <tr style=\"text-align: right;\">\n",
       "      <th></th>\n",
       "      <th>node</th>\n",
       "      <th>lat</th>\n",
       "      <th>lon</th>\n",
       "    </tr>\n",
       "  </thead>\n",
       "  <tbody>\n",
       "    <tr>\n",
       "      <th>10781</th>\n",
       "      <td>1889485053</td>\n",
       "      <td>-37.815834</td>\n",
       "      <td>145.04645</td>\n",
       "    </tr>\n",
       "  </tbody>\n",
       "</table>\n",
       "</div>"
      ],
      "text/plain": [
       "             node        lat        lon\n",
       "10781  1889485053 -37.815834  145.04645"
      ]
     },
     "execution_count": 139,
     "metadata": {},
     "output_type": "execute_result"
    }
   ],
   "source": [
    "nodes_df[(nodes_df['lat'] == branch_lat) & (nodes_df['lon'] == branch_lon)]"
   ]
  },
  {
   "cell_type": "code",
   "execution_count": 141,
   "metadata": {},
   "outputs": [
    {
     "data": {
      "text/html": [
       "<div>\n",
       "<style scoped>\n",
       "    .dataframe tbody tr th:only-of-type {\n",
       "        vertical-align: middle;\n",
       "    }\n",
       "\n",
       "    .dataframe tbody tr th {\n",
       "        vertical-align: top;\n",
       "    }\n",
       "\n",
       "    .dataframe thead th {\n",
       "        text-align: right;\n",
       "    }\n",
       "</style>\n",
       "<table border=\"1\" class=\"dataframe\">\n",
       "  <thead>\n",
       "    <tr style=\"text-align: right;\">\n",
       "      <th></th>\n",
       "      <th>node</th>\n",
       "      <th>lat</th>\n",
       "      <th>lon</th>\n",
       "    </tr>\n",
       "  </thead>\n",
       "  <tbody>\n",
       "    <tr>\n",
       "      <th>3347</th>\n",
       "      <td>1492410210</td>\n",
       "      <td>-37.80504</td>\n",
       "      <td>144.963243</td>\n",
       "    </tr>\n",
       "  </tbody>\n",
       "</table>\n",
       "</div>"
      ],
      "text/plain": [
       "            node       lat         lon\n",
       "3347  1492410210 -37.80504  144.963243"
      ]
     },
     "execution_count": 141,
     "metadata": {},
     "output_type": "execute_result"
    }
   ],
   "source": [
    "nodes_df[(nodes_df['lat'] == dirty_df.loc[0]['customer_lat']) & (nodes_df['lon'] == dirty_df.loc[0]['customer_lon'])]"
   ]
  },
  {
   "cell_type": "code",
   "execution_count": 142,
   "metadata": {},
   "outputs": [],
   "source": [
    "shortest_path_length = nx.shortest_path_length(G, source=1889485053, target=1492410210, weight='weight')"
   ]
  },
  {
   "cell_type": "code",
   "execution_count": 145,
   "metadata": {},
   "outputs": [
    {
     "data": {
      "text/plain": [
       "7.615"
      ]
     },
     "execution_count": 145,
     "metadata": {},
     "output_type": "execute_result"
    }
   ],
   "source": [
    "shortest_path_length/1000"
   ]
  },
  {
   "cell_type": "markdown",
   "metadata": {},
   "source": [
    "## Detecting and Removing Outlier Rows in outlier_data.csv"
   ]
  },
  {
   "cell_type": "code",
   "execution_count": 2,
   "metadata": {},
   "outputs": [],
   "source": [
    "outlier_data_path = \"data\\Group109_outlier_data.csv\"\n",
    "outlier_df = pd.read_csv(outlier_data_path)\n"
   ]
  },
  {
   "cell_type": "markdown",
   "metadata": {},
   "source": []
  }
 ],
 "metadata": {
  "kernelspec": {
   "display_name": "base",
   "language": "python",
   "name": "python3"
  },
  "language_info": {
   "codemirror_mode": {
    "name": "ipython",
    "version": 3
   },
   "file_extension": ".py",
   "mimetype": "text/x-python",
   "name": "python",
   "nbconvert_exporter": "python",
   "pygments_lexer": "ipython3",
   "version": "3.8.8"
  }
 },
 "nbformat": 4,
 "nbformat_minor": 2
}
