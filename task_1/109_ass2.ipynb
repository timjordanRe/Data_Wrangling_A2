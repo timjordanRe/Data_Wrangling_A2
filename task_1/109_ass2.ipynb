{
 "cells": [
  {
   "cell_type": "markdown",
   "metadata": {},
   "source": [
    "# FIT5196-S1-2024 Assessment 2"
   ]
  },
  {
   "cell_type": "markdown",
   "metadata": {},
   "source": [
    "The following notebook provides our answers and working out for Assignment 2 Tasks 1 and 2 for FIT5196 Data Wrangling"
   ]
  },
  {
   "cell_type": "markdown",
   "metadata": {},
   "source": [
    "Before performing any data cleaning or EDA, we first import necessary libraries"
   ]
  },
  {
   "cell_type": "code",
   "execution_count": 1,
   "metadata": {},
   "outputs": [],
   "source": [
    "import pandas as pd\n",
    "import networkx as nx\n",
    "import numpy as np\n",
    "from sklearn.linear_model import LogisticRegression, LinearRegression\n",
    "from sklearn.model_selection import train_test_split\n",
    "from sklearn.metrics import accuracy_score, classification_report, mean_squared_error, r2_score\n",
    "from sklearn.preprocessing import LabelEncoder\n",
    "import matplotlib.pyplot as plt\n",
    "%matplotlib inline\n",
    "pd.options.mode.chained_assignment = None  # default='warn'"
   ]
  },
  {
   "cell_type": "markdown",
   "metadata": {},
   "source": [
    "## Task 1: Data Cleaning"
   ]
  },
  {
   "cell_type": "markdown",
   "metadata": {},
   "source": [
    "We now import necessary input files for Task 1"
   ]
  },
  {
   "cell_type": "code",
   "execution_count": 2,
   "metadata": {},
   "outputs": [],
   "source": [
    "dirty_data_path = \"data\\Group109_dirty_data.csv\"\n",
    "missing_data_path = \"data\\Group109_missing_data.csv\"\n",
    "outlier_data_path = \"data\\Group109_outlier_data.csv\"\n",
    "branch_path = r\"data\\branches.csv\"\n",
    "edges_path = \"data\\edges.csv\"\n",
    "nodes_path = r\"data\\nodes.csv\"\n",
    "\n",
    "dirty_df = pd.read_csv(dirty_data_path)\n",
    "missing_df = pd.read_csv(missing_data_path)\n",
    "outlier_df = pd.read_csv(outlier_data_path)\n",
    "branch_df = pd.read_csv(branch_path)\n",
    "edges_df = pd.read_csv(edges_path)\n",
    "nodes_df = pd.read_csv(nodes_path)"
   ]
  },
  {
   "cell_type": "markdown",
   "metadata": {},
   "source": [
    "### Task 1.1 Detecting and Fixing Errors in dirty_data.csv "
   ]
  },
  {
   "cell_type": "markdown",
   "metadata": {},
   "source": [
    "The general approach that we would be following to identify potential dirty data is listed below. We are generally looking for data anomalies related to:\n",
    "- integrity constraints\n",
    "- data entry error\n",
    "- wrong categorical data\n",
    "- violation of referential integrity\n",
    "- duplicated data\n",
    "- go against value range\n",
    "- wrong encoding\n",
    "- wrong representations\n",
    "- wrong names and numbers"
   ]
  },
  {
   "cell_type": "markdown",
   "metadata": {},
   "source": [
    "To get a broad understanding of the dirty dataset in `dirty_df` we utilise `info()`, `describe()`, and `head()` functions in `pandas` library to understand the data type of each feature, gain more insight into the value range for numerical features and also have a view of what the raw data looks like"
   ]
  },
  {
   "cell_type": "code",
   "execution_count": 3,
   "metadata": {},
   "outputs": [
    {
     "name": "stdout",
     "output_type": "stream",
     "text": [
      "<class 'pandas.core.frame.DataFrame'>\n",
      "RangeIndex: 500 entries, 0 to 499\n",
      "Data columns (total 12 columns):\n",
      " #   Column                   Non-Null Count  Dtype  \n",
      "---  ------                   --------------  -----  \n",
      " 0   order_id                 500 non-null    object \n",
      " 1   date                     500 non-null    object \n",
      " 2   time                     500 non-null    object \n",
      " 3   order_type               500 non-null    object \n",
      " 4   branch_code              500 non-null    object \n",
      " 5   order_items              500 non-null    object \n",
      " 6   order_price              500 non-null    float64\n",
      " 7   customer_lat             500 non-null    float64\n",
      " 8   customer_lon             500 non-null    float64\n",
      " 9   customerHasloyalty?      500 non-null    int64  \n",
      " 10  distance_to_customer_KM  500 non-null    float64\n",
      " 11  delivery_fee             500 non-null    float64\n",
      "dtypes: float64(5), int64(1), object(6)\n",
      "memory usage: 47.0+ KB\n"
     ]
    }
   ],
   "source": [
    "dirty_df.info()"
   ]
  },
  {
   "cell_type": "code",
   "execution_count": 4,
   "metadata": {},
   "outputs": [
    {
     "data": {
      "text/html": [
       "<div>\n",
       "<style scoped>\n",
       "    .dataframe tbody tr th:only-of-type {\n",
       "        vertical-align: middle;\n",
       "    }\n",
       "\n",
       "    .dataframe tbody tr th {\n",
       "        vertical-align: top;\n",
       "    }\n",
       "\n",
       "    .dataframe thead th {\n",
       "        text-align: right;\n",
       "    }\n",
       "</style>\n",
       "<table border=\"1\" class=\"dataframe\">\n",
       "  <thead>\n",
       "    <tr style=\"text-align: right;\">\n",
       "      <th></th>\n",
       "      <th>order_price</th>\n",
       "      <th>customer_lat</th>\n",
       "      <th>customer_lon</th>\n",
       "      <th>customerHasloyalty?</th>\n",
       "      <th>distance_to_customer_KM</th>\n",
       "      <th>delivery_fee</th>\n",
       "    </tr>\n",
       "  </thead>\n",
       "  <tbody>\n",
       "    <tr>\n",
       "      <th>count</th>\n",
       "      <td>500.000000</td>\n",
       "      <td>500.000000</td>\n",
       "      <td>500.000000</td>\n",
       "      <td>500.000000</td>\n",
       "      <td>500.000000</td>\n",
       "      <td>500.000000</td>\n",
       "    </tr>\n",
       "    <tr>\n",
       "      <th>mean</th>\n",
       "      <td>480.712900</td>\n",
       "      <td>-30.753946</td>\n",
       "      <td>143.504403</td>\n",
       "      <td>0.102000</td>\n",
       "      <td>8.629274</td>\n",
       "      <td>13.877162</td>\n",
       "    </tr>\n",
       "    <tr>\n",
       "      <th>std</th>\n",
       "      <td>254.034843</td>\n",
       "      <td>25.337436</td>\n",
       "      <td>16.299630</td>\n",
       "      <td>0.302951</td>\n",
       "      <td>1.596279</td>\n",
       "      <td>2.378285</td>\n",
       "    </tr>\n",
       "    <tr>\n",
       "      <th>min</th>\n",
       "      <td>31.750000</td>\n",
       "      <td>-37.827188</td>\n",
       "      <td>-37.822231</td>\n",
       "      <td>0.000000</td>\n",
       "      <td>3.613000</td>\n",
       "      <td>5.646222</td>\n",
       "    </tr>\n",
       "    <tr>\n",
       "      <th>25%</th>\n",
       "      <td>300.625000</td>\n",
       "      <td>-37.818738</td>\n",
       "      <td>144.952786</td>\n",
       "      <td>0.000000</td>\n",
       "      <td>7.750500</td>\n",
       "      <td>12.660927</td>\n",
       "    </tr>\n",
       "    <tr>\n",
       "      <th>50%</th>\n",
       "      <td>434.250000</td>\n",
       "      <td>-37.811755</td>\n",
       "      <td>144.963914</td>\n",
       "      <td>0.000000</td>\n",
       "      <td>8.639500</td>\n",
       "      <td>13.849738</td>\n",
       "    </tr>\n",
       "    <tr>\n",
       "      <th>75%</th>\n",
       "      <td>633.250000</td>\n",
       "      <td>-37.804505</td>\n",
       "      <td>144.980037</td>\n",
       "      <td>0.000000</td>\n",
       "      <td>9.633500</td>\n",
       "      <td>15.229668</td>\n",
       "    </tr>\n",
       "    <tr>\n",
       "      <th>max</th>\n",
       "      <td>1361.500000</td>\n",
       "      <td>145.005221</td>\n",
       "      <td>145.015449</td>\n",
       "      <td>1.000000</td>\n",
       "      <td>13.735000</td>\n",
       "      <td>20.088572</td>\n",
       "    </tr>\n",
       "  </tbody>\n",
       "</table>\n",
       "</div>"
      ],
      "text/plain": [
       "       order_price  customer_lat  customer_lon  customerHasloyalty?  \\\n",
       "count   500.000000    500.000000    500.000000           500.000000   \n",
       "mean    480.712900    -30.753946    143.504403             0.102000   \n",
       "std     254.034843     25.337436     16.299630             0.302951   \n",
       "min      31.750000    -37.827188    -37.822231             0.000000   \n",
       "25%     300.625000    -37.818738    144.952786             0.000000   \n",
       "50%     434.250000    -37.811755    144.963914             0.000000   \n",
       "75%     633.250000    -37.804505    144.980037             0.000000   \n",
       "max    1361.500000    145.005221    145.015449             1.000000   \n",
       "\n",
       "       distance_to_customer_KM  delivery_fee  \n",
       "count               500.000000    500.000000  \n",
       "mean                  8.629274     13.877162  \n",
       "std                   1.596279      2.378285  \n",
       "min                   3.613000      5.646222  \n",
       "25%                   7.750500     12.660927  \n",
       "50%                   8.639500     13.849738  \n",
       "75%                   9.633500     15.229668  \n",
       "max                  13.735000     20.088572  "
      ]
     },
     "execution_count": 4,
     "metadata": {},
     "output_type": "execute_result"
    }
   ],
   "source": [
    "dirty_df.describe()"
   ]
  },
  {
   "cell_type": "code",
   "execution_count": 5,
   "metadata": {},
   "outputs": [
    {
     "data": {
      "text/html": [
       "<div>\n",
       "<style scoped>\n",
       "    .dataframe tbody tr th:only-of-type {\n",
       "        vertical-align: middle;\n",
       "    }\n",
       "\n",
       "    .dataframe tbody tr th {\n",
       "        vertical-align: top;\n",
       "    }\n",
       "\n",
       "    .dataframe thead th {\n",
       "        text-align: right;\n",
       "    }\n",
       "</style>\n",
       "<table border=\"1\" class=\"dataframe\">\n",
       "  <thead>\n",
       "    <tr style=\"text-align: right;\">\n",
       "      <th></th>\n",
       "      <th>order_id</th>\n",
       "      <th>date</th>\n",
       "      <th>time</th>\n",
       "      <th>order_type</th>\n",
       "      <th>branch_code</th>\n",
       "      <th>order_items</th>\n",
       "      <th>order_price</th>\n",
       "      <th>customer_lat</th>\n",
       "      <th>customer_lon</th>\n",
       "      <th>customerHasloyalty?</th>\n",
       "      <th>distance_to_customer_KM</th>\n",
       "      <th>delivery_fee</th>\n",
       "    </tr>\n",
       "  </thead>\n",
       "  <tbody>\n",
       "    <tr>\n",
       "      <th>0</th>\n",
       "      <td>ORDX02948</td>\n",
       "      <td>2018-03-11</td>\n",
       "      <td>10:11:49</td>\n",
       "      <td>Breakfast</td>\n",
       "      <td>BK</td>\n",
       "      <td>[('Cereal', 4), ('Eggs', 3), ('Coffee', 1), ('...</td>\n",
       "      <td>206.00</td>\n",
       "      <td>-37.805040</td>\n",
       "      <td>144.963243</td>\n",
       "      <td>0</td>\n",
       "      <td>7.615</td>\n",
       "      <td>14.403915</td>\n",
       "    </tr>\n",
       "    <tr>\n",
       "      <th>1</th>\n",
       "      <td>ORDC07988</td>\n",
       "      <td>2018-03-06</td>\n",
       "      <td>10:01:41</td>\n",
       "      <td>Breakfast</td>\n",
       "      <td>NS</td>\n",
       "      <td>[('Coffee', 2), ('Cereal', 5), ('Eggs', 10), (...</td>\n",
       "      <td>437.00</td>\n",
       "      <td>-37.815989</td>\n",
       "      <td>144.983435</td>\n",
       "      <td>0</td>\n",
       "      <td>8.914</td>\n",
       "      <td>13.807773</td>\n",
       "    </tr>\n",
       "    <tr>\n",
       "      <th>2</th>\n",
       "      <td>ORDI00568</td>\n",
       "      <td>2018-07-05</td>\n",
       "      <td>14:05:04</td>\n",
       "      <td>Lunch</td>\n",
       "      <td>NS</td>\n",
       "      <td>[('Fries', 6), ('Chicken', 5), ('Salad', 7), (...</td>\n",
       "      <td>507.40</td>\n",
       "      <td>-37.806281</td>\n",
       "      <td>144.941960</td>\n",
       "      <td>1</td>\n",
       "      <td>9.316</td>\n",
       "      <td>15.028384</td>\n",
       "    </tr>\n",
       "    <tr>\n",
       "      <th>3</th>\n",
       "      <td>ORDI06756</td>\n",
       "      <td>2018-04-23</td>\n",
       "      <td>11:43:05</td>\n",
       "      <td>Breakfast</td>\n",
       "      <td>NS</td>\n",
       "      <td>[('Coffee', 3), ('Pancake', 6), ('Eggs', 3)]</td>\n",
       "      <td>234.00</td>\n",
       "      <td>-37.822259</td>\n",
       "      <td>144.946977</td>\n",
       "      <td>0</td>\n",
       "      <td>9.975</td>\n",
       "      <td>15.217270</td>\n",
       "    </tr>\n",
       "    <tr>\n",
       "      <th>4</th>\n",
       "      <td>ORDX01986</td>\n",
       "      <td>2018-04-29</td>\n",
       "      <td>11:53:14</td>\n",
       "      <td>Breakfast</td>\n",
       "      <td>BK</td>\n",
       "      <td>[('Coffee', 6), ('Cereal', 1), ('Eggs', 2), ('...</td>\n",
       "      <td>134.25</td>\n",
       "      <td>-37.815950</td>\n",
       "      <td>144.986001</td>\n",
       "      <td>0</td>\n",
       "      <td>6.038</td>\n",
       "      <td>13.677500</td>\n",
       "    </tr>\n",
       "  </tbody>\n",
       "</table>\n",
       "</div>"
      ],
      "text/plain": [
       "    order_id        date      time order_type branch_code  \\\n",
       "0  ORDX02948  2018-03-11  10:11:49  Breakfast          BK   \n",
       "1  ORDC07988  2018-03-06  10:01:41  Breakfast          NS   \n",
       "2  ORDI00568  2018-07-05  14:05:04      Lunch          NS   \n",
       "3  ORDI06756  2018-04-23  11:43:05  Breakfast          NS   \n",
       "4  ORDX01986  2018-04-29  11:53:14  Breakfast          BK   \n",
       "\n",
       "                                         order_items  order_price  \\\n",
       "0  [('Cereal', 4), ('Eggs', 3), ('Coffee', 1), ('...       206.00   \n",
       "1  [('Coffee', 2), ('Cereal', 5), ('Eggs', 10), (...       437.00   \n",
       "2  [('Fries', 6), ('Chicken', 5), ('Salad', 7), (...       507.40   \n",
       "3       [('Coffee', 3), ('Pancake', 6), ('Eggs', 3)]       234.00   \n",
       "4  [('Coffee', 6), ('Cereal', 1), ('Eggs', 2), ('...       134.25   \n",
       "\n",
       "   customer_lat  customer_lon  customerHasloyalty?  distance_to_customer_KM  \\\n",
       "0    -37.805040    144.963243                    0                    7.615   \n",
       "1    -37.815989    144.983435                    0                    8.914   \n",
       "2    -37.806281    144.941960                    1                    9.316   \n",
       "3    -37.822259    144.946977                    0                    9.975   \n",
       "4    -37.815950    144.986001                    0                    6.038   \n",
       "\n",
       "   delivery_fee  \n",
       "0     14.403915  \n",
       "1     13.807773  \n",
       "2     15.028384  \n",
       "3     15.217270  \n",
       "4     13.677500  "
      ]
     },
     "execution_count": 5,
     "metadata": {},
     "output_type": "execute_result"
    }
   ],
   "source": [
    "dirty_df.head()"
   ]
  },
  {
   "cell_type": "markdown",
   "metadata": {},
   "source": [
    "As stated in the assignment brief, we will not be looking for any fixing values within the following columns as there are no errors in dirty data for them:\n",
    "- `order_id`\n",
    "- `time`\n",
    "- the numeric quantity in `order_items`\n",
    "- `delivery_fee`"
   ]
  },
  {
   "cell_type": "markdown",
   "metadata": {},
   "source": [
    "#### Cleaning Branch Code"
   ]
  },
  {
   "cell_type": "markdown",
   "metadata": {},
   "source": [
    "We first take a look at what unique values are stored in `branch_code` by using the `value_counts()` function"
   ]
  },
  {
   "cell_type": "code",
   "execution_count": 6,
   "metadata": {},
   "outputs": [
    {
     "data": {
      "text/plain": [
       "TP    169\n",
       "NS    163\n",
       "BK    144\n",
       "ns     11\n",
       "tp      7\n",
       "bk      6\n",
       "Name: branch_code, dtype: int64"
      ]
     },
     "execution_count": 6,
     "metadata": {},
     "output_type": "execute_result"
    }
   ],
   "source": [
    "dirty_df['branch_code'].value_counts()"
   ]
  },
  {
   "cell_type": "markdown",
   "metadata": {},
   "source": [
    "From the output above, we can see that some of the branch codes have been inputted in the wrong representation. Instead of being inputted in all uppercase, some of the values are shown as lowercase (e.g. ns, tp and bk). We will need to perform data transformation on this column to convert all values to uppercase letters. We leverage the function `apply` function in `pandas` to convert all branch codes to uppercase using the inbuilt string function `str.upper`."
   ]
  },
  {
   "cell_type": "code",
   "execution_count": 7,
   "metadata": {},
   "outputs": [],
   "source": [
    "dirty_df['branch_code'] = dirty_df['branch_code'].apply(str.upper)"
   ]
  },
  {
   "cell_type": "markdown",
   "metadata": {},
   "source": [
    "If we check the value counts, we are now able to see all branch codes having all uppercase"
   ]
  },
  {
   "cell_type": "code",
   "execution_count": 8,
   "metadata": {},
   "outputs": [
    {
     "data": {
      "text/plain": [
       "TP    176\n",
       "NS    174\n",
       "BK    150\n",
       "Name: branch_code, dtype: int64"
      ]
     },
     "execution_count": 8,
     "metadata": {},
     "output_type": "execute_result"
    }
   ],
   "source": [
    "dirty_df['branch_code'].value_counts()"
   ]
  },
  {
   "cell_type": "markdown",
   "metadata": {},
   "source": [
    "#### Cleaning Date Column"
   ]
  },
  {
   "cell_type": "markdown",
   "metadata": {},
   "source": [
    "According to the assignment brief, all string date values in column `date` should be in the format YYYY-MM-DD. We can verify if this is the case by using `pd.to_datetime` function on the `date` column and see if all date values fit the format `%Y-%m-%d`"
   ]
  },
  {
   "cell_type": "code",
   "execution_count": 9,
   "metadata": {},
   "outputs": [
    {
     "name": "stdout",
     "output_type": "stream",
     "text": [
      "Error occurred. Unable to convert the following date:\n",
      "time data 06-10-2018 doesn't match format specified\n"
     ]
    }
   ],
   "source": [
    "try:\n",
    "    pd.to_datetime(dirty_df['date'], format='%Y-%m-%d', errors='raise')\n",
    "except ValueError as e:\n",
    "    print(\"Error occurred. Unable to convert the following date:\")\n",
    "    print(e)\n",
    "else:\n",
    "    print('No error')"
   ]
  },
  {
   "cell_type": "markdown",
   "metadata": {},
   "source": [
    "As we can see, not all the date values are in the correct format. Therefore we will have to iterate through each date value and determine which one of the follow formats the date value can be in. We use the following `pd.to_datetime` format for each date format:\n",
    "1. YYYY-MM-DD: `format='%Y-%m-%d'`\n",
    "2. DD-MM-YYYY: `format='%d-%m-%Y'`\n",
    "3. YYYY-DD-MM: `format='%Y-%d-%m'`\n"
   ]
  },
  {
   "cell_type": "code",
   "execution_count": 10,
   "metadata": {},
   "outputs": [],
   "source": [
    "for index, row in dirty_df.iterrows():\n",
    "    new_row = pd.Series(row)\n",
    "\n",
    "    # Check if date fits the format YYYY-MM-DD\n",
    "    try:\n",
    "        new_row = pd.to_datetime(row['date'], format='%Y-%m-%d')\n",
    "    except:\n",
    "        # If not, check if it fits the format YYYY-DD-MM\n",
    "        try: \n",
    "            new_row = pd.to_datetime(row['date'], format='%Y-%d-%m')\n",
    "        # Else, check if it fits the format DD-MM-YYYY\n",
    "        except:\n",
    "            new_row = pd.to_datetime(row['date'], format='%d-%m-%Y')\n",
    "    dirty_df.at[index, 'date'] = new_row\n",
    "\n",
    "dirty_df['date'] = pd.to_datetime(dirty_df['date'], format='%Y-%m-%d').dt.strftime('%Y-%m-%d')"
   ]
  },
  {
   "cell_type": "markdown",
   "metadata": {},
   "source": [
    "Now if we run the date format checker once again, we find that all dates in `dirty_df` are now in the correct format"
   ]
  },
  {
   "cell_type": "code",
   "execution_count": 11,
   "metadata": {},
   "outputs": [
    {
     "name": "stdout",
     "output_type": "stream",
     "text": [
      "No error\n"
     ]
    }
   ],
   "source": [
    "try:\n",
    "    pd.to_datetime(dirty_df['date'], format='%Y-%m-%d', errors='raise')\n",
    "except ValueError as e:\n",
    "    print(\"Error occurred. Unable to convert the following date:\")\n",
    "    print(e)\n",
    "else:\n",
    "    print('No error')"
   ]
  },
  {
   "cell_type": "markdown",
   "metadata": {},
   "source": [
    "#### Clean Order Type"
   ]
  },
  {
   "cell_type": "markdown",
   "metadata": {},
   "source": [
    "Now we evaluate the `order_type` column. Since we know for certain that the time column does not have any errors in it, we can verify if the `order_type` is correct according to the time. The order should be the following according to the times:\n",
    "- 08:00:00 - 12:00:00 = Breakfast\n",
    "- 12:00:01 - 16:00:00 = Lunch\n",
    "- 16:00:01 - 20:00:00 = Dinner"
   ]
  },
  {
   "cell_type": "markdown",
   "metadata": {},
   "source": [
    "To check if the correct order type has been inputted, we create the function `find_order-type`. It looks through each string time value in `time` column, converts this string into datetime format. Then we check the timestamp to see if it fits within the Breakfast, Lunch or Dinner time slots"
   ]
  },
  {
   "cell_type": "code",
   "execution_count": 12,
   "metadata": {},
   "outputs": [],
   "source": [
    "def find_order_type(time):\n",
    "    timestamp = pd.to_datetime(time, format='%H:%M:%S').time()\n",
    "    if timestamp >= pd.to_datetime('08:00:00').time() and timestamp <= pd.to_datetime('12:00:00').time():\n",
    "        return 'Breakfast'\n",
    "    elif timestamp >= pd.to_datetime('12:00:01').time() and timestamp < pd.to_datetime('16:00:00').time():\n",
    "        return 'Lunch'\n",
    "    elif timestamp >= pd.to_datetime('16:00:01').time() and timestamp <= pd.to_datetime('20:00:00').time():\n",
    "        return 'Dinner'\n",
    "    else:\n",
    "        return 'Error'"
   ]
  },
  {
   "cell_type": "code",
   "execution_count": 13,
   "metadata": {},
   "outputs": [
    {
     "data": {
      "text/html": [
       "<div>\n",
       "<style scoped>\n",
       "    .dataframe tbody tr th:only-of-type {\n",
       "        vertical-align: middle;\n",
       "    }\n",
       "\n",
       "    .dataframe tbody tr th {\n",
       "        vertical-align: top;\n",
       "    }\n",
       "\n",
       "    .dataframe thead th {\n",
       "        text-align: right;\n",
       "    }\n",
       "</style>\n",
       "<table border=\"1\" class=\"dataframe\">\n",
       "  <thead>\n",
       "    <tr style=\"text-align: right;\">\n",
       "      <th></th>\n",
       "      <th>order_id</th>\n",
       "      <th>date</th>\n",
       "      <th>time</th>\n",
       "      <th>order_type</th>\n",
       "      <th>branch_code</th>\n",
       "      <th>order_items</th>\n",
       "      <th>order_price</th>\n",
       "      <th>customer_lat</th>\n",
       "      <th>customer_lon</th>\n",
       "      <th>customerHasloyalty?</th>\n",
       "      <th>distance_to_customer_KM</th>\n",
       "      <th>delivery_fee</th>\n",
       "    </tr>\n",
       "  </thead>\n",
       "  <tbody>\n",
       "    <tr>\n",
       "      <th>14</th>\n",
       "      <td>ORDC09610</td>\n",
       "      <td>2018-10-06</td>\n",
       "      <td>17:07:36</td>\n",
       "      <td>Lunch</td>\n",
       "      <td>NS</td>\n",
       "      <td>[('Fish&amp;Chips', 5), ('Shrimp', 2), ('Pasta', 4)]</td>\n",
       "      <td>393.0</td>\n",
       "      <td>-37.826028</td>\n",
       "      <td>144.984514</td>\n",
       "      <td>0</td>\n",
       "      <td>9.578</td>\n",
       "      <td>17.378357</td>\n",
       "    </tr>\n",
       "    <tr>\n",
       "      <th>19</th>\n",
       "      <td>ORDC06273</td>\n",
       "      <td>2018-09-05</td>\n",
       "      <td>16:06:45</td>\n",
       "      <td>Lunch</td>\n",
       "      <td>NS</td>\n",
       "      <td>[('Pasta', 5), ('Shrimp', 10), ('Fish&amp;Chips', ...</td>\n",
       "      <td>1361.5</td>\n",
       "      <td>-37.814936</td>\n",
       "      <td>144.927351</td>\n",
       "      <td>0</td>\n",
       "      <td>10.813</td>\n",
       "      <td>16.896152</td>\n",
       "    </tr>\n",
       "    <tr>\n",
       "      <th>20</th>\n",
       "      <td>ORDB10659</td>\n",
       "      <td>2018-04-20</td>\n",
       "      <td>11:32:57</td>\n",
       "      <td>Dinner</td>\n",
       "      <td>TP</td>\n",
       "      <td>[('Eggs', 7), ('Coffee', 10), ('Cereal', 6), (...</td>\n",
       "      <td>597.5</td>\n",
       "      <td>-37.818900</td>\n",
       "      <td>144.952797</td>\n",
       "      <td>0</td>\n",
       "      <td>8.576</td>\n",
       "      <td>11.161592</td>\n",
       "    </tr>\n",
       "    <tr>\n",
       "      <th>37</th>\n",
       "      <td>ORDK01676</td>\n",
       "      <td>2018-03-16</td>\n",
       "      <td>10:21:58</td>\n",
       "      <td>Dinner</td>\n",
       "      <td>BK</td>\n",
       "      <td>[('Eggs', 2), ('Pancake', 2)]</td>\n",
       "      <td>92.5</td>\n",
       "      <td>-37.801158</td>\n",
       "      <td>144.957692</td>\n",
       "      <td>0</td>\n",
       "      <td>8.326</td>\n",
       "      <td>13.278789</td>\n",
       "    </tr>\n",
       "    <tr>\n",
       "      <th>54</th>\n",
       "      <td>ORDB10190</td>\n",
       "      <td>2018-10-08</td>\n",
       "      <td>17:17:44</td>\n",
       "      <td>Breakfast</td>\n",
       "      <td>TP</td>\n",
       "      <td>[('Fish&amp;Chips', 2), ('Salmon', 2)]</td>\n",
       "      <td>152.0</td>\n",
       "      <td>-37.813657</td>\n",
       "      <td>144.957285</td>\n",
       "      <td>0</td>\n",
       "      <td>8.419</td>\n",
       "      <td>13.088105</td>\n",
       "    </tr>\n",
       "  </tbody>\n",
       "</table>\n",
       "</div>"
      ],
      "text/plain": [
       "     order_id        date      time order_type branch_code  \\\n",
       "14  ORDC09610  2018-10-06  17:07:36      Lunch          NS   \n",
       "19  ORDC06273  2018-09-05  16:06:45      Lunch          NS   \n",
       "20  ORDB10659  2018-04-20  11:32:57     Dinner          TP   \n",
       "37  ORDK01676  2018-03-16  10:21:58     Dinner          BK   \n",
       "54  ORDB10190  2018-10-08  17:17:44  Breakfast          TP   \n",
       "\n",
       "                                          order_items  order_price  \\\n",
       "14   [('Fish&Chips', 5), ('Shrimp', 2), ('Pasta', 4)]        393.0   \n",
       "19  [('Pasta', 5), ('Shrimp', 10), ('Fish&Chips', ...       1361.5   \n",
       "20  [('Eggs', 7), ('Coffee', 10), ('Cereal', 6), (...        597.5   \n",
       "37                      [('Eggs', 2), ('Pancake', 2)]         92.5   \n",
       "54                 [('Fish&Chips', 2), ('Salmon', 2)]        152.0   \n",
       "\n",
       "    customer_lat  customer_lon  customerHasloyalty?  distance_to_customer_KM  \\\n",
       "14    -37.826028    144.984514                    0                    9.578   \n",
       "19    -37.814936    144.927351                    0                   10.813   \n",
       "20    -37.818900    144.952797                    0                    8.576   \n",
       "37    -37.801158    144.957692                    0                    8.326   \n",
       "54    -37.813657    144.957285                    0                    8.419   \n",
       "\n",
       "    delivery_fee  \n",
       "14     17.378357  \n",
       "19     16.896152  \n",
       "20     11.161592  \n",
       "37     13.278789  \n",
       "54     13.088105  "
      ]
     },
     "execution_count": 13,
     "metadata": {},
     "output_type": "execute_result"
    }
   ],
   "source": [
    "# output values where calculated order type does not match the order type in the dataset\n",
    "dirty_df[dirty_df['time'].apply(find_order_type) != dirty_df['order_type']].head()"
   ]
  },
  {
   "cell_type": "markdown",
   "metadata": {},
   "source": [
    "As shown above, there are orders in which order type has been incorrectly inputted according to the time. We can fix this issue by performing the following"
   ]
  },
  {
   "cell_type": "code",
   "execution_count": 14,
   "metadata": {},
   "outputs": [],
   "source": [
    "dirty_df['order_type'] = dirty_df['time'].apply(find_order_type)"
   ]
  },
  {
   "cell_type": "markdown",
   "metadata": {},
   "source": [
    "If we check again, now the order types are in the correct types"
   ]
  },
  {
   "cell_type": "code",
   "execution_count": 15,
   "metadata": {},
   "outputs": [
    {
     "data": {
      "text/plain": [
       "0"
      ]
     },
     "execution_count": 15,
     "metadata": {},
     "output_type": "execute_result"
    }
   ],
   "source": [
    "# output values where calculated order type does not match the order type in the dataset\n",
    "(dirty_df['time'].apply(find_order_type) != dirty_df['order_type']).sum()"
   ]
  },
  {
   "cell_type": "markdown",
   "metadata": {},
   "source": [
    "#### Cleaning Branch and Customer Locations"
   ]
  },
  {
   "cell_type": "markdown",
   "metadata": {},
   "source": [
    "We determine if the branch and customer locations in `dirty_df` can be accurately found in the provided Graph in `nodes.csv`. To do this, we create `check_branch_nodes` and `check_customer_nodes` functions. `check_branch_nodes` uses the branch codes specified in the order in `dirty_df` and finds if these codes can be found within the `branches.csv` file using `branches_df`. If the branch code is valid, the longitude and latitude values of the branch should be able to be retrieved and should match an instance in the `nodes.csv` content which is stored in `nodes_df`. If the node is found, return True. Else, False.\n",
    "\n",
    "We perform a similar process to verify if customer nodes exist. We extract the customer latitude and longitude values from each order and check the `nodes_df` dataframe if there is a matching set of coordinates found in its dataset. If the node is found, return True. Else, False."
   ]
  },
  {
   "cell_type": "code",
   "execution_count": 16,
   "metadata": {},
   "outputs": [],
   "source": [
    "# check if customer node exists\n",
    "def check_customer_nodes(row):\n",
    "    customer_node = nodes_df[(nodes_df['lat'] == row['customer_lat']) & (nodes_df['lon'] == row['customer_lon'])]\n",
    "\n",
    "    if customer_node.empty:\n",
    "        return True\n",
    "    else:\n",
    "        return False\n",
    "\n",
    "# check if branch node exists\n",
    "def check_branch_nodes(row):\n",
    "    branch_lat = branch_df[branch_df['branch_code'] == row['branch_code']]['branch_lat'].values[0]\n",
    "    branch_lon = branch_df[branch_df['branch_code'] == row['branch_code']]['branch_lon'].values[0]\n",
    "\n",
    "    branch_node = nodes_df[(nodes_df['lat'] == branch_lat) & (nodes_df['lon'] == branch_lon)]\n",
    "\n",
    "    if branch_node.empty:\n",
    "        return True \n",
    "    else:\n",
    "        return False"
   ]
  },
  {
   "cell_type": "code",
   "execution_count": 17,
   "metadata": {},
   "outputs": [
    {
     "data": {
      "text/plain": [
       "0"
      ]
     },
     "execution_count": 17,
     "metadata": {},
     "output_type": "execute_result"
    }
   ],
   "source": [
    "# Retrieve the number of rows where the customer node does not exist in the nodes.csv file\n",
    "dirty_df.apply(check_branch_nodes, axis=1).sum()"
   ]
  },
  {
   "cell_type": "markdown",
   "metadata": {},
   "source": [
    "From the above results, we can see that all the branch nodes are accounted for and each node exists in the provided graph"
   ]
  },
  {
   "cell_type": "code",
   "execution_count": 18,
   "metadata": {},
   "outputs": [
    {
     "data": {
      "text/plain": [
       "41"
      ]
     },
     "execution_count": 18,
     "metadata": {},
     "output_type": "execute_result"
    }
   ],
   "source": [
    "dirty_df.apply(check_customer_nodes, axis=1).sum()"
   ]
  },
  {
   "cell_type": "markdown",
   "metadata": {},
   "source": [
    "When checking for customer nodes, it is evident that there are 41 instances of orders where we are unable to identify the node in the graph according to the provided customer longitude and latitude values. To investigate further into the cause of this issue, let's output the first 15 instances where this is the case."
   ]
  },
  {
   "cell_type": "code",
   "execution_count": 19,
   "metadata": {},
   "outputs": [
    {
     "data": {
      "text/html": [
       "<div>\n",
       "<style scoped>\n",
       "    .dataframe tbody tr th:only-of-type {\n",
       "        vertical-align: middle;\n",
       "    }\n",
       "\n",
       "    .dataframe tbody tr th {\n",
       "        vertical-align: top;\n",
       "    }\n",
       "\n",
       "    .dataframe thead th {\n",
       "        text-align: right;\n",
       "    }\n",
       "</style>\n",
       "<table border=\"1\" class=\"dataframe\">\n",
       "  <thead>\n",
       "    <tr style=\"text-align: right;\">\n",
       "      <th></th>\n",
       "      <th>customer_lat</th>\n",
       "      <th>customer_lon</th>\n",
       "    </tr>\n",
       "  </thead>\n",
       "  <tbody>\n",
       "    <tr>\n",
       "      <th>5</th>\n",
       "      <td>37.814994</td>\n",
       "      <td>144.960538</td>\n",
       "    </tr>\n",
       "    <tr>\n",
       "      <th>7</th>\n",
       "      <td>37.816395</td>\n",
       "      <td>144.938170</td>\n",
       "    </tr>\n",
       "    <tr>\n",
       "      <th>12</th>\n",
       "      <td>37.816482</td>\n",
       "      <td>144.964894</td>\n",
       "    </tr>\n",
       "    <tr>\n",
       "      <th>25</th>\n",
       "      <td>37.824000</td>\n",
       "      <td>144.953766</td>\n",
       "    </tr>\n",
       "    <tr>\n",
       "      <th>35</th>\n",
       "      <td>37.811124</td>\n",
       "      <td>145.001788</td>\n",
       "    </tr>\n",
       "    <tr>\n",
       "      <th>38</th>\n",
       "      <td>37.799866</td>\n",
       "      <td>145.002800</td>\n",
       "    </tr>\n",
       "    <tr>\n",
       "      <th>45</th>\n",
       "      <td>37.814037</td>\n",
       "      <td>144.985480</td>\n",
       "    </tr>\n",
       "    <tr>\n",
       "      <th>49</th>\n",
       "      <td>37.813155</td>\n",
       "      <td>144.968360</td>\n",
       "    </tr>\n",
       "    <tr>\n",
       "      <th>52</th>\n",
       "      <td>37.804832</td>\n",
       "      <td>144.950241</td>\n",
       "    </tr>\n",
       "    <tr>\n",
       "      <th>53</th>\n",
       "      <td>37.812135</td>\n",
       "      <td>144.962341</td>\n",
       "    </tr>\n",
       "    <tr>\n",
       "      <th>61</th>\n",
       "      <td>37.806314</td>\n",
       "      <td>144.947357</td>\n",
       "    </tr>\n",
       "    <tr>\n",
       "      <th>106</th>\n",
       "      <td>37.807900</td>\n",
       "      <td>144.991930</td>\n",
       "    </tr>\n",
       "    <tr>\n",
       "      <th>135</th>\n",
       "      <td>145.005221</td>\n",
       "      <td>-37.817570</td>\n",
       "    </tr>\n",
       "    <tr>\n",
       "      <th>151</th>\n",
       "      <td>37.812306</td>\n",
       "      <td>144.937522</td>\n",
       "    </tr>\n",
       "    <tr>\n",
       "      <th>160</th>\n",
       "      <td>144.949738</td>\n",
       "      <td>-37.814165</td>\n",
       "    </tr>\n",
       "  </tbody>\n",
       "</table>\n",
       "</div>"
      ],
      "text/plain": [
       "     customer_lat  customer_lon\n",
       "5       37.814994    144.960538\n",
       "7       37.816395    144.938170\n",
       "12      37.816482    144.964894\n",
       "25      37.824000    144.953766\n",
       "35      37.811124    145.001788\n",
       "38      37.799866    145.002800\n",
       "45      37.814037    144.985480\n",
       "49      37.813155    144.968360\n",
       "52      37.804832    144.950241\n",
       "53      37.812135    144.962341\n",
       "61      37.806314    144.947357\n",
       "106     37.807900    144.991930\n",
       "135    145.005221    -37.817570\n",
       "151     37.812306    144.937522\n",
       "160    144.949738    -37.814165"
      ]
     },
     "execution_count": 19,
     "metadata": {},
     "output_type": "execute_result"
    }
   ],
   "source": [
    "dirty_df[dirty_df.apply(check_customer_nodes, axis=1)][['customer_lat', 'customer_lon']].head(15)"
   ]
  },
  {
   "cell_type": "markdown",
   "metadata": {},
   "source": [
    "From the outputted data above, we can see 2 prominent errors within the data:\n",
    "1. <b>There are some instances in which customer latitude has a missing negative symbol at the front. </b>\n",
    "\n",
    "Take the row at index 5 for example where latitude and longitude are 37.814994 and 144.960538 respectively. If we look at the `nodes.csv` file:"
   ]
  },
  {
   "cell_type": "code",
   "execution_count": 20,
   "metadata": {},
   "outputs": [
    {
     "data": {
      "text/html": [
       "<div>\n",
       "<style scoped>\n",
       "    .dataframe tbody tr th:only-of-type {\n",
       "        vertical-align: middle;\n",
       "    }\n",
       "\n",
       "    .dataframe tbody tr th {\n",
       "        vertical-align: top;\n",
       "    }\n",
       "\n",
       "    .dataframe thead th {\n",
       "        text-align: right;\n",
       "    }\n",
       "</style>\n",
       "<table border=\"1\" class=\"dataframe\">\n",
       "  <thead>\n",
       "    <tr style=\"text-align: right;\">\n",
       "      <th></th>\n",
       "      <th>node</th>\n",
       "      <th>lat</th>\n",
       "      <th>lon</th>\n",
       "    </tr>\n",
       "  </thead>\n",
       "  <tbody>\n",
       "    <tr>\n",
       "      <th>3793</th>\n",
       "      <td>6167489464</td>\n",
       "      <td>-37.814994</td>\n",
       "      <td>144.960538</td>\n",
       "    </tr>\n",
       "  </tbody>\n",
       "</table>\n",
       "</div>"
      ],
      "text/plain": [
       "            node        lat         lon\n",
       "3793  6167489464 -37.814994  144.960538"
      ]
     },
     "execution_count": 20,
     "metadata": {},
     "output_type": "execute_result"
    }
   ],
   "source": [
    "index = 5\n",
    "# modify latitude by multiplying it by -1\n",
    "lat = dirty_df.loc[index,]['customer_lat'] * -1\n",
    "lon = dirty_df.loc[index,]['customer_lon']\n",
    "\n",
    "# check if the modified latitude exists in the nodes.csv file\n",
    "nodes_df[(nodes_df['lat'] == lat) & (nodes_df['lon'] == lon)]"
   ]
  },
  {
   "cell_type": "markdown",
   "metadata": {},
   "source": [
    "As shown above, the following node exists in the graph when the latitude value is included with a negative value."
   ]
  },
  {
   "cell_type": "markdown",
   "metadata": {},
   "source": [
    "\n",
    "2. <b>There are some instance in which customer longitude and customer latitude are placed incorrectly and have been swapped with one another</b>\n",
    "\n",
    "Take row at index 135 for example where latitude and longitude are 145.005221 and -37.817570 respectively. It is evident that these have been inputted incorrectly and the values have swapped over."
   ]
  },
  {
   "cell_type": "code",
   "execution_count": 21,
   "metadata": {},
   "outputs": [
    {
     "data": {
      "text/html": [
       "<div>\n",
       "<style scoped>\n",
       "    .dataframe tbody tr th:only-of-type {\n",
       "        vertical-align: middle;\n",
       "    }\n",
       "\n",
       "    .dataframe tbody tr th {\n",
       "        vertical-align: top;\n",
       "    }\n",
       "\n",
       "    .dataframe thead th {\n",
       "        text-align: right;\n",
       "    }\n",
       "</style>\n",
       "<table border=\"1\" class=\"dataframe\">\n",
       "  <thead>\n",
       "    <tr style=\"text-align: right;\">\n",
       "      <th></th>\n",
       "      <th>node</th>\n",
       "      <th>lat</th>\n",
       "      <th>lon</th>\n",
       "    </tr>\n",
       "  </thead>\n",
       "  <tbody>\n",
       "    <tr>\n",
       "      <th>9191</th>\n",
       "      <td>1463620803</td>\n",
       "      <td>-37.81757</td>\n",
       "      <td>145.005221</td>\n",
       "    </tr>\n",
       "  </tbody>\n",
       "</table>\n",
       "</div>"
      ],
      "text/plain": [
       "            node       lat         lon\n",
       "9191  1463620803 -37.81757  145.005221"
      ]
     },
     "execution_count": 21,
     "metadata": {},
     "output_type": "execute_result"
    }
   ],
   "source": [
    "index = 135\n",
    "# modify latitude by multiplying it by -1\n",
    "lat = dirty_df.loc[index,]['customer_lon']\n",
    "lon = dirty_df.loc[index,]['customer_lat']\n",
    "\n",
    "# check if the modified latitude exists in the nodes.csv file\n",
    "nodes_df[(nodes_df['lat'] == lat) & (nodes_df['lon'] == lon)]"
   ]
  },
  {
   "cell_type": "markdown",
   "metadata": {},
   "source": [
    "As shown above, the following node exists in the graph when the customer latitude and longitude values are swapped over.\n",
    "\n",
    "We fix the issue with customer longitude and latitude values using the following custom function `find_customer_node` which first tries to find the node of the customer based on the given latitude and longitude values. If it is unable to do so, we try the following approaches next:\n",
    "1. Multiply the latitude value by negative and check to see if these coordinates exist in `nodes_df`. Else;\n",
    "2. Swap the longitude and latitude values and check to see if these coordinates exist in `nodes_df`\n",
    "\n",
    "If none of these approaches allow us to find a node, we will raise a `ValueError`"
   ]
  },
  {
   "cell_type": "code",
   "execution_count": 22,
   "metadata": {},
   "outputs": [],
   "source": [
    "def calc_customer_node(row):\n",
    "    cus_lat = row['customer_lat']\n",
    "    cus_lon = row['customer_lon']\n",
    "    customer_node = nodes_df[(nodes_df['lat'] == cus_lat) & (nodes_df['lon'] == cus_lon)]\n",
    "\n",
    "    # If the customer node does not exist, check for misinput of latitude and longitude values\n",
    "    if customer_node.empty:\n",
    "        # multiply the latitude by -1 \n",
    "        customer_node = nodes_df[(nodes_df['lat'] == -cus_lat) & (nodes_df['lon'] == cus_lon)]\n",
    "        # If the customer node still does not exist, try swapping the latitude and longitude values\n",
    "        if customer_node.empty:\n",
    "            customer_node = nodes_df[(nodes_df['lat'] == cus_lon) & (nodes_df['lon'] == cus_lat)]\n",
    "\n",
    "    # If the customer node still does not exist, raise an error\n",
    "    if customer_node.empty:\n",
    "        raise ValueError(\"Customer node does not exist in the nodes.csv file\")\n",
    "    \n",
    "    return customer_node.iloc[0]['lat'], customer_node.iloc[0]['lon']\n"
   ]
  },
  {
   "cell_type": "code",
   "execution_count": 23,
   "metadata": {},
   "outputs": [],
   "source": [
    "dirty_df['customer_coords'] = dirty_df.apply(calc_customer_node, axis=1)\n",
    "dirty_df[['customer_lat', 'customer_lon']] = pd.DataFrame(dirty_df['customer_coords'].to_list(), index=dirty_df.index)\n",
    "\n",
    "dirty_df.drop(columns=['customer_coords'], inplace=True)"
   ]
  },
  {
   "cell_type": "code",
   "execution_count": 24,
   "metadata": {},
   "outputs": [
    {
     "data": {
      "text/plain": [
       "0"
      ]
     },
     "execution_count": 24,
     "metadata": {},
     "output_type": "execute_result"
    }
   ],
   "source": [
    "dirty_df.apply(check_customer_nodes, axis=1).sum()"
   ]
  },
  {
   "cell_type": "markdown",
   "metadata": {},
   "source": [
    "When we run `check_customer_nodes` again we can see that all of the coordinates can be accounted for and found in the `nodes.csv` file"
   ]
  },
  {
   "cell_type": "markdown",
   "metadata": {},
   "source": [
    "#### Clean Distance To Customer KM"
   ]
  },
  {
   "cell_type": "markdown",
   "metadata": {},
   "source": [
    "Now we check if `distance_to_customer_KM` is correct. To start with this, we utilise `Graph()` function from `networkx` library to construct a Graph based on the nodes, edges provided by the Assignment brief in `nodes.csv` and `edges.csv` respectively"
   ]
  },
  {
   "cell_type": "code",
   "execution_count": 25,
   "metadata": {},
   "outputs": [],
   "source": [
    "G = nx.Graph()\n",
    "G.add_nodes_from(nodes_df['node'])\n",
    "for index, row in edges_df.iterrows():\n",
    "    G.add_edge(row['u'], row['v'], weight=row['distance(m)'])"
   ]
  },
  {
   "cell_type": "code",
   "execution_count": 26,
   "metadata": {},
   "outputs": [],
   "source": [
    "def find_branch_node(row):\n",
    "    branch_lat = branch_df[branch_df['branch_code'] == row['branch_code']]['branch_lat'].values[0]\n",
    "    branch_lon = branch_df[branch_df['branch_code'] == row['branch_code']]['branch_lon'].values[0]\n",
    "\n",
    "    branch_node = nodes_df[(nodes_df['lat'] == branch_lat) & (nodes_df['lon'] == branch_lon)]\n",
    "\n",
    "    return branch_node\n",
    "\n",
    "def find_shortest_path(row):\n",
    "    cus_lat = row['customer_lat']\n",
    "    cus_lon = row['customer_lon']\n",
    "    customer_node = nodes_df[(nodes_df['lat'] == cus_lat) & (nodes_df['lon'] == cus_lon)]\n",
    "    \n",
    "    branch_node = find_branch_node(row)\n",
    "\n",
    "    # Find the shortest path between the customer node and the branch node\n",
    "    try:\n",
    "        # calculates the shortest path using djikstra's algorithm in M\n",
    "        shortest_path = nx.shortest_path_length(G, source=customer_node['node'].values[0], target=branch_node['node'].values[0], weight='weight')\n",
    "\n",
    "        # calculate to KM\n",
    "        shortest_path = shortest_path/1000\n",
    "    except nx.NetworkXNoPath:\n",
    "        raise ValueError(\"No path exists between the customer node and the branch node\")\n",
    "    \n",
    "    return shortest_path"
   ]
  },
  {
   "cell_type": "code",
   "execution_count": 27,
   "metadata": {},
   "outputs": [],
   "source": [
    "dirty_df['shortest_path'] = dirty_df.apply(find_shortest_path, axis=1)"
   ]
  },
  {
   "cell_type": "code",
   "execution_count": 28,
   "metadata": {},
   "outputs": [
    {
     "data": {
      "text/html": [
       "<div>\n",
       "<style scoped>\n",
       "    .dataframe tbody tr th:only-of-type {\n",
       "        vertical-align: middle;\n",
       "    }\n",
       "\n",
       "    .dataframe tbody tr th {\n",
       "        vertical-align: top;\n",
       "    }\n",
       "\n",
       "    .dataframe thead th {\n",
       "        text-align: right;\n",
       "    }\n",
       "</style>\n",
       "<table border=\"1\" class=\"dataframe\">\n",
       "  <thead>\n",
       "    <tr style=\"text-align: right;\">\n",
       "      <th></th>\n",
       "      <th>distance_to_customer_KM</th>\n",
       "      <th>shortest_path</th>\n",
       "    </tr>\n",
       "  </thead>\n",
       "  <tbody>\n",
       "    <tr>\n",
       "      <th>1</th>\n",
       "      <td>8.914</td>\n",
       "      <td>8.624</td>\n",
       "    </tr>\n",
       "    <tr>\n",
       "      <th>11</th>\n",
       "      <td>8.330</td>\n",
       "      <td>7.699</td>\n",
       "    </tr>\n",
       "    <tr>\n",
       "      <th>15</th>\n",
       "      <td>8.667</td>\n",
       "      <td>7.938</td>\n",
       "    </tr>\n",
       "    <tr>\n",
       "      <th>18</th>\n",
       "      <td>8.245</td>\n",
       "      <td>8.787</td>\n",
       "    </tr>\n",
       "    <tr>\n",
       "      <th>22</th>\n",
       "      <td>5.435</td>\n",
       "      <td>11.912</td>\n",
       "    </tr>\n",
       "  </tbody>\n",
       "</table>\n",
       "</div>"
      ],
      "text/plain": [
       "    distance_to_customer_KM  shortest_path\n",
       "1                     8.914          8.624\n",
       "11                    8.330          7.699\n",
       "15                    8.667          7.938\n",
       "18                    8.245          8.787\n",
       "22                    5.435         11.912"
      ]
     },
     "execution_count": 28,
     "metadata": {},
     "output_type": "execute_result"
    }
   ],
   "source": [
    "dirty_df[dirty_df['distance_to_customer_KM'] != dirty_df['shortest_path']][['distance_to_customer_KM', 'shortest_path']].head()"
   ]
  },
  {
   "cell_type": "markdown",
   "metadata": {},
   "source": [
    "Once we have correctly calculated the shortest distance to the customer according to Djikstra's algorithm, we replace the data in `distance_to_customer_KM` column with the correct distance data in `shortest_path` column"
   ]
  },
  {
   "cell_type": "code",
   "execution_count": 29,
   "metadata": {},
   "outputs": [],
   "source": [
    "dirty_df['distance_to_customer_KM'] = dirty_df['shortest_path']\n",
    "dirty_df.drop(columns=['shortest_path'], inplace=True)"
   ]
  },
  {
   "cell_type": "markdown",
   "metadata": {},
   "source": [
    "#### Clean dirty data in  `order_price` and item names in `order_items`"
   ]
  },
  {
   "cell_type": "markdown",
   "metadata": {},
   "source": [
    "Now we check if the items orders is appropriate according to the time of day. For example:\n",
    "- Eggs, Coffee and Cereal in the morning"
   ]
  },
  {
   "cell_type": "code",
   "execution_count": 30,
   "metadata": {},
   "outputs": [],
   "source": [
    "dirty_df['order_items'] = dirty_df['order_items'].apply(eval)\n",
    "outlier_df['order_items'] = outlier_df['order_items'].apply(eval)"
   ]
  },
  {
   "cell_type": "code",
   "execution_count": 31,
   "metadata": {},
   "outputs": [
    {
     "name": "stdout",
     "output_type": "stream",
     "text": [
      "Meal Items in Outlier Data:\n",
      "\n",
      "Breakfast items:\n",
      "['Cereal', 'Coffee', 'Eggs', 'Pancake']\n",
      "\n",
      "Lunch items:\n",
      "['Burger', 'Chicken', 'Fries', 'Salad', 'Steak']\n",
      "\n",
      "Dinner items:\n",
      "['Fish&Chips', 'Pasta', 'Salmon', 'Shrimp']\n",
      "\n"
     ]
    }
   ],
   "source": [
    "CORRECT_MEAL_ITEMS = {\n",
    "    \"Breakfast\": set(),\n",
    "    \"Lunch\": set(),\n",
    "    \"Dinner\": set()\n",
    "}\n",
    "\n",
    "for index, row in outlier_df.iterrows():\n",
    "    for item, number in row['order_items']:\n",
    "        if item not in CORRECT_MEAL_ITEMS[row['order_type']]:\n",
    "            CORRECT_MEAL_ITEMS[row['order_type']].add(item)\n",
    "\n",
    "print(\"Meal Items in Outlier Data:\\n\")\n",
    "\n",
    "for key in CORRECT_MEAL_ITEMS.keys():\n",
    "    print(f'{key} items:')\n",
    "    print(sorted(CORRECT_MEAL_ITEMS[key]))\n",
    "    print()"
   ]
  },
  {
   "cell_type": "code",
   "execution_count": 32,
   "metadata": {},
   "outputs": [
    {
     "name": "stdout",
     "output_type": "stream",
     "text": [
      "Meal Items in Dirty Data:\n",
      "\n",
      "Breakfast items:\n",
      "['Burger', 'Cereal', 'Chicken', 'Coffee', 'Eggs', 'Fries', 'Pancake', 'Salmon', 'Shrimp']\n",
      "\n",
      "Lunch items:\n",
      "['Burger', 'Cereal', 'Chicken', 'Coffee', 'Eggs', 'Fries', 'Pancake', 'Pasta', 'Salad', 'Salmon', 'Shrimp', 'Steak']\n",
      "\n",
      "Dinner items:\n",
      "['Burger', 'Cereal', 'Coffee', 'Eggs', 'Fish&Chips', 'Fries', 'Pancake', 'Pasta', 'Salad', 'Salmon', 'Shrimp']\n",
      "\n"
     ]
    }
   ],
   "source": [
    "meal_items = {\n",
    "    \"Breakfast\": set(),\n",
    "    \"Lunch\": set(),\n",
    "    \"Dinner\": set()\n",
    "}\n",
    "\n",
    "for index, row in dirty_df.iterrows():\n",
    "    for item, number in row['order_items']:\n",
    "        if item not in meal_items[row['order_type']]:\n",
    "            meal_items[row['order_type']].add(item)\n",
    "\n",
    "print(\"Meal Items in Dirty Data:\\n\")\n",
    "\n",
    "for key in meal_items.keys():\n",
    "    print(f'{key} items:')\n",
    "    print(sorted(meal_items[key]))\n",
    "    print()"
   ]
  },
  {
   "cell_type": "markdown",
   "metadata": {},
   "source": [
    "As we can see from above, there are repeating meal items that can be found between different meal items such as 'Burger', 'Cereal' and 'Chicken'"
   ]
  },
  {
   "cell_type": "markdown",
   "metadata": {},
   "source": [
    "Run this code to identify all the menu items provided"
   ]
  },
  {
   "cell_type": "code",
   "execution_count": 33,
   "metadata": {},
   "outputs": [],
   "source": [
    "MENU_ITEMS = ['Cereal',\n",
    " 'Eggs',\n",
    " 'Coffee',\n",
    " 'Pancake',\n",
    " 'Fries',\n",
    " 'Chicken',\n",
    " 'Salad',\n",
    " 'Burger',\n",
    " 'Salmon',\n",
    " 'Shrimp',\n",
    " 'Fish&Chips',\n",
    " 'Pasta',\n",
    " 'Steak']\n",
    "\n",
    "def create_order_dict(row):\n",
    "    order_mapping = {item: index for index, item in enumerate(MENU_ITEMS)}\n",
    "    order = [0 for _ in MENU_ITEMS]\n",
    "    for item in row['order_items']:\n",
    "        order_index = order_mapping[item[0]]\n",
    "        order[order_index] += item[1]\n",
    "    return order"
   ]
  },
  {
   "cell_type": "markdown",
   "metadata": {},
   "source": [
    "We can use the clean data in missing_data.csv to determine the correct menu item price"
   ]
  },
  {
   "cell_type": "code",
   "execution_count": 34,
   "metadata": {},
   "outputs": [],
   "source": [
    "missing_df['order_items'] = missing_df['order_items'].apply(eval)"
   ]
  },
  {
   "cell_type": "code",
   "execution_count": 35,
   "metadata": {},
   "outputs": [
    {
     "name": "stdout",
     "output_type": "stream",
     "text": [
      "Cereal: $21.0\n",
      "Eggs: $22.0\n",
      "Coffee: $7.5\n",
      "Pancake: $24.25\n",
      "Fries: $12.0\n",
      "Chicken: $32.0\n",
      "Salad: $17.2\n",
      "Burger: $31.0\n",
      "Salmon: $41.0\n",
      "Shrimp: $54.0\n",
      "Fish&Chips: $35.0\n",
      "Pasta: $27.5\n",
      "Steak: $45.0\n"
     ]
    }
   ],
   "source": [
    "coef_matrix = np.array(missing_df.apply(create_order_dict, axis=1).tolist())\n",
    "constants = np.array(missing_df['order_price'].tolist())\n",
    "prices, residuals, _, _ = np.linalg.lstsq(coef_matrix, constants, rcond=None)\n",
    "prices = prices.round(2)\n",
    "for item, price in zip(MENU_ITEMS, prices):\n",
    "    print(f'{item}: ${price}')"
   ]
  },
  {
   "cell_type": "markdown",
   "metadata": {},
   "source": [
    "From what we have calculated using the least squares regression to solve the multivariate equations, we can see the correct prices for all menu items"
   ]
  },
  {
   "cell_type": "code",
   "execution_count": 36,
   "metadata": {},
   "outputs": [
    {
     "data": {
      "text/plain": [
       "array([0.])"
      ]
     },
     "execution_count": 36,
     "metadata": {},
     "output_type": "execute_result"
    }
   ],
   "source": [
    "residuals.round(2)"
   ]
  },
  {
   "cell_type": "markdown",
   "metadata": {},
   "source": [
    "The residual sum of sequares for the least squares regression is equal to zero when rounded to two decimal places. This means that the model is very close to a perfect fit to the data and can be accurately used to determine item prices"
   ]
  },
  {
   "cell_type": "markdown",
   "metadata": {},
   "source": [
    "We double check to see if the item price has been calculated correctly by finding the total order price for each order"
   ]
  },
  {
   "cell_type": "code",
   "execution_count": 37,
   "metadata": {},
   "outputs": [],
   "source": [
    "ITEM_PRICES = {item:price for item, price in zip(MENU_ITEMS, prices)}\n",
    "\n",
    "def calculate_order_price(row):\n",
    "    order_price = 0\n",
    "    for item in row['order_items']:\n",
    "        order_price += item[1] * ITEM_PRICES[item[0]]\n",
    "    order_price = round(order_price, 2)\n",
    "    return order_price"
   ]
  },
  {
   "cell_type": "code",
   "execution_count": 38,
   "metadata": {},
   "outputs": [
    {
     "data": {
      "text/plain": [
       "0"
      ]
     },
     "execution_count": 38,
     "metadata": {},
     "output_type": "execute_result"
    }
   ],
   "source": [
    "sum(missing_df['order_price'] != missing_df.apply(calculate_order_price, axis=1))"
   ]
  },
  {
   "cell_type": "markdown",
   "metadata": {},
   "source": [
    "As shown from above, we can be certain that all the item prices have been correctly calculated. Now we can use our calculated item prices to find the correct order prices within the `dirty_data.csv` file"
   ]
  },
  {
   "cell_type": "code",
   "execution_count": 39,
   "metadata": {},
   "outputs": [
    {
     "data": {
      "text/html": [
       "<div>\n",
       "<style scoped>\n",
       "    .dataframe tbody tr th:only-of-type {\n",
       "        vertical-align: middle;\n",
       "    }\n",
       "\n",
       "    .dataframe tbody tr th {\n",
       "        vertical-align: top;\n",
       "    }\n",
       "\n",
       "    .dataframe thead th {\n",
       "        text-align: right;\n",
       "    }\n",
       "</style>\n",
       "<table border=\"1\" class=\"dataframe\">\n",
       "  <thead>\n",
       "    <tr style=\"text-align: right;\">\n",
       "      <th></th>\n",
       "      <th>order_id</th>\n",
       "      <th>date</th>\n",
       "      <th>time</th>\n",
       "      <th>order_type</th>\n",
       "      <th>branch_code</th>\n",
       "      <th>order_items</th>\n",
       "      <th>order_price</th>\n",
       "      <th>customer_lat</th>\n",
       "      <th>customer_lon</th>\n",
       "      <th>customerHasloyalty?</th>\n",
       "      <th>distance_to_customer_KM</th>\n",
       "      <th>delivery_fee</th>\n",
       "      <th>calc_order_price</th>\n",
       "    </tr>\n",
       "  </thead>\n",
       "  <tbody>\n",
       "    <tr>\n",
       "      <th>8</th>\n",
       "      <td>ORDJ01725</td>\n",
       "      <td>2018-11-21</td>\n",
       "      <td>18:49:00</td>\n",
       "      <td>Dinner</td>\n",
       "      <td>TP</td>\n",
       "      <td>[(Salmon, 7), (Fish&amp;Chips, 10), (Pasta, 6), (S...</td>\n",
       "      <td>387.6</td>\n",
       "      <td>-37.810778</td>\n",
       "      <td>144.939145</td>\n",
       "      <td>0</td>\n",
       "      <td>10.243</td>\n",
       "      <td>14.296622</td>\n",
       "      <td>856.0</td>\n",
       "    </tr>\n",
       "    <tr>\n",
       "      <th>21</th>\n",
       "      <td>ORDX04933</td>\n",
       "      <td>2018-10-24</td>\n",
       "      <td>17:48:10</td>\n",
       "      <td>Dinner</td>\n",
       "      <td>BK</td>\n",
       "      <td>[(Shrimp, 10), (Fish&amp;Chips, 4), (Burger, 5), (...</td>\n",
       "      <td>1104.5</td>\n",
       "      <td>-37.811205</td>\n",
       "      <td>144.961921</td>\n",
       "      <td>0</td>\n",
       "      <td>7.749</td>\n",
       "      <td>13.712141</td>\n",
       "      <td>1122.0</td>\n",
       "    </tr>\n",
       "    <tr>\n",
       "      <th>51</th>\n",
       "      <td>ORDZ04491</td>\n",
       "      <td>2018-01-15</td>\n",
       "      <td>08:20:16</td>\n",
       "      <td>Breakfast</td>\n",
       "      <td>NS</td>\n",
       "      <td>[(Cereal, 7), (Fries, 4)]</td>\n",
       "      <td>235.0</td>\n",
       "      <td>-37.815102</td>\n",
       "      <td>144.923050</td>\n",
       "      <td>1</td>\n",
       "      <td>11.071</td>\n",
       "      <td>8.030919</td>\n",
       "      <td>195.0</td>\n",
       "    </tr>\n",
       "    <tr>\n",
       "      <th>59</th>\n",
       "      <td>ORDY01354</td>\n",
       "      <td>2018-05-27</td>\n",
       "      <td>12:43:56</td>\n",
       "      <td>Lunch</td>\n",
       "      <td>TP</td>\n",
       "      <td>[(Shrimp, 6), (Steak, 1), (Salad, 10)]</td>\n",
       "      <td>289.0</td>\n",
       "      <td>-37.821142</td>\n",
       "      <td>145.015388</td>\n",
       "      <td>0</td>\n",
       "      <td>12.055</td>\n",
       "      <td>16.623301</td>\n",
       "      <td>541.0</td>\n",
       "    </tr>\n",
       "    <tr>\n",
       "      <th>88</th>\n",
       "      <td>ORDY10473</td>\n",
       "      <td>2018-09-28</td>\n",
       "      <td>16:57:27</td>\n",
       "      <td>Dinner</td>\n",
       "      <td>TP</td>\n",
       "      <td>[(Pasta, 1), (Salmon, 3)]</td>\n",
       "      <td>399.6</td>\n",
       "      <td>-37.806308</td>\n",
       "      <td>144.949894</td>\n",
       "      <td>0</td>\n",
       "      <td>9.546</td>\n",
       "      <td>13.909831</td>\n",
       "      <td>150.5</td>\n",
       "    </tr>\n",
       "    <tr>\n",
       "      <th>91</th>\n",
       "      <td>ORDI10930</td>\n",
       "      <td>2018-10-31</td>\n",
       "      <td>17:58:18</td>\n",
       "      <td>Dinner</td>\n",
       "      <td>NS</td>\n",
       "      <td>[(Salmon, 3), (Fish&amp;Chips, 10), (Salad, 3)]</td>\n",
       "      <td>635.0</td>\n",
       "      <td>-37.807321</td>\n",
       "      <td>144.973390</td>\n",
       "      <td>0</td>\n",
       "      <td>7.026</td>\n",
       "      <td>13.389700</td>\n",
       "      <td>524.6</td>\n",
       "    </tr>\n",
       "    <tr>\n",
       "      <th>95</th>\n",
       "      <td>ORDI02286</td>\n",
       "      <td>2018-07-03</td>\n",
       "      <td>14:05:04</td>\n",
       "      <td>Lunch</td>\n",
       "      <td>NS</td>\n",
       "      <td>[(Pasta, 7), (Burger, 7)]</td>\n",
       "      <td>301.0</td>\n",
       "      <td>-37.809753</td>\n",
       "      <td>144.963887</td>\n",
       "      <td>0</td>\n",
       "      <td>7.431</td>\n",
       "      <td>12.838643</td>\n",
       "      <td>409.5</td>\n",
       "    </tr>\n",
       "    <tr>\n",
       "      <th>110</th>\n",
       "      <td>ORDX03709</td>\n",
       "      <td>2018-06-18</td>\n",
       "      <td>13:34:38</td>\n",
       "      <td>Lunch</td>\n",
       "      <td>BK</td>\n",
       "      <td>[(Fries, 7), (Salad, 5)]</td>\n",
       "      <td>596.0</td>\n",
       "      <td>-37.823040</td>\n",
       "      <td>145.007147</td>\n",
       "      <td>0</td>\n",
       "      <td>4.633</td>\n",
       "      <td>10.199590</td>\n",
       "      <td>170.0</td>\n",
       "    </tr>\n",
       "    <tr>\n",
       "      <th>118</th>\n",
       "      <td>ORDZ05102</td>\n",
       "      <td>2018-10-05</td>\n",
       "      <td>17:07:36</td>\n",
       "      <td>Dinner</td>\n",
       "      <td>NS</td>\n",
       "      <td>[(Salmon, 10), (Fish&amp;Chips, 5), (Shrimp, 5), (...</td>\n",
       "      <td>600.6</td>\n",
       "      <td>-37.808465</td>\n",
       "      <td>144.955813</td>\n",
       "      <td>0</td>\n",
       "      <td>8.055</td>\n",
       "      <td>14.038606</td>\n",
       "      <td>882.5</td>\n",
       "    </tr>\n",
       "    <tr>\n",
       "      <th>120</th>\n",
       "      <td>ORDA05737</td>\n",
       "      <td>2018-01-23</td>\n",
       "      <td>08:40:33</td>\n",
       "      <td>Breakfast</td>\n",
       "      <td>BK</td>\n",
       "      <td>[(Cereal, 4), (Eggs, 1)]</td>\n",
       "      <td>242.0</td>\n",
       "      <td>-37.818995</td>\n",
       "      <td>144.954145</td>\n",
       "      <td>0</td>\n",
       "      <td>8.699</td>\n",
       "      <td>13.617509</td>\n",
       "      <td>106.0</td>\n",
       "    </tr>\n",
       "  </tbody>\n",
       "</table>\n",
       "</div>"
      ],
      "text/plain": [
       "      order_id        date      time order_type branch_code  \\\n",
       "8    ORDJ01725  2018-11-21  18:49:00     Dinner          TP   \n",
       "21   ORDX04933  2018-10-24  17:48:10     Dinner          BK   \n",
       "51   ORDZ04491  2018-01-15  08:20:16  Breakfast          NS   \n",
       "59   ORDY01354  2018-05-27  12:43:56      Lunch          TP   \n",
       "88   ORDY10473  2018-09-28  16:57:27     Dinner          TP   \n",
       "91   ORDI10930  2018-10-31  17:58:18     Dinner          NS   \n",
       "95   ORDI02286  2018-07-03  14:05:04      Lunch          NS   \n",
       "110  ORDX03709  2018-06-18  13:34:38      Lunch          BK   \n",
       "118  ORDZ05102  2018-10-05  17:07:36     Dinner          NS   \n",
       "120  ORDA05737  2018-01-23  08:40:33  Breakfast          BK   \n",
       "\n",
       "                                           order_items  order_price  \\\n",
       "8    [(Salmon, 7), (Fish&Chips, 10), (Pasta, 6), (S...        387.6   \n",
       "21   [(Shrimp, 10), (Fish&Chips, 4), (Burger, 5), (...       1104.5   \n",
       "51                           [(Cereal, 7), (Fries, 4)]        235.0   \n",
       "59              [(Shrimp, 6), (Steak, 1), (Salad, 10)]        289.0   \n",
       "88                           [(Pasta, 1), (Salmon, 3)]        399.6   \n",
       "91         [(Salmon, 3), (Fish&Chips, 10), (Salad, 3)]        635.0   \n",
       "95                           [(Pasta, 7), (Burger, 7)]        301.0   \n",
       "110                           [(Fries, 7), (Salad, 5)]        596.0   \n",
       "118  [(Salmon, 10), (Fish&Chips, 5), (Shrimp, 5), (...        600.6   \n",
       "120                           [(Cereal, 4), (Eggs, 1)]        242.0   \n",
       "\n",
       "     customer_lat  customer_lon  customerHasloyalty?  distance_to_customer_KM  \\\n",
       "8      -37.810778    144.939145                    0                   10.243   \n",
       "21     -37.811205    144.961921                    0                    7.749   \n",
       "51     -37.815102    144.923050                    1                   11.071   \n",
       "59     -37.821142    145.015388                    0                   12.055   \n",
       "88     -37.806308    144.949894                    0                    9.546   \n",
       "91     -37.807321    144.973390                    0                    7.026   \n",
       "95     -37.809753    144.963887                    0                    7.431   \n",
       "110    -37.823040    145.007147                    0                    4.633   \n",
       "118    -37.808465    144.955813                    0                    8.055   \n",
       "120    -37.818995    144.954145                    0                    8.699   \n",
       "\n",
       "     delivery_fee  calc_order_price  \n",
       "8       14.296622             856.0  \n",
       "21      13.712141            1122.0  \n",
       "51       8.030919             195.0  \n",
       "59      16.623301             541.0  \n",
       "88      13.909831             150.5  \n",
       "91      13.389700             524.6  \n",
       "95      12.838643             409.5  \n",
       "110     10.199590             170.0  \n",
       "118     14.038606             882.5  \n",
       "120     13.617509             106.0  "
      ]
     },
     "execution_count": 39,
     "metadata": {},
     "output_type": "execute_result"
    }
   ],
   "source": [
    "dirty_df['calc_order_price'] = dirty_df.apply(calculate_order_price, axis=1)\n",
    "dirty_df[dirty_df['order_price'] != dirty_df['calc_order_price']].head(10)"
   ]
  },
  {
   "cell_type": "markdown",
   "metadata": {},
   "source": [
    "From what we can see above, there are instances in `dirty_df` where the order_price does not align with the order price we have calculated. This may be because the order price has been inputted incorrectly or that the order item meals have been inputted incorrectly. According to the assignment brief, there can only be one data anomaly per row, so either the order price is wrong or that order item meal is wrong, never both. We can use this knowledge to deduct what data point needs to be fixed. For instance, the row at index 51 (look at table above) has 'Fries' included in their order, but we know that it Fries is not available during Breakfast hours. So that means the menu item has been inputted correctly, not the item price. \n",
    "\n",
    "Therefore, our approach to rectify data in `order_items` and `order_price` is as such:\n",
    "1. First check if there are any order item meals that have been inputted incorrectly. \n",
    "\n",
    "In such a case, we know that the order price, order item numbers and the other order item meals are correct. Therefore we can construct an algebraic equation to solve for the unknown item price which directly related to the item meal. Let's say that we have the order so we have the order_items = [(Cereal, 7), (Fries, 4)] and order_price = 235.0 where `Fries` is the incorrect value that we want to find the correct meal of. According to `ITEM_PRICES` we know the price of Cereal is $21, and so we can construct our algebraic equation as such: \n",
    "$$\n",
    " \\text{Cereal}*\\text{amount} + \\text{unknown meal}*\\text{amount} = \\text{order price}\n",
    "$$\n",
    "$$\n",
    " 21*7 + \\text{unknown meal}*4 = 235\n",
    "$$\n",
    "Then we can rearrange the equation to find the cost of the unknown meal:\n",
    "$$\n",
    " \\text{unknown meal} = 22.0\n",
    "$$\n",
    "\n",
    "If we refer back to `ITEM_PRICES` we can see that the meal item that matches this price are Eggs. We know this is the correct meal item since Eggs are typically served during breakfast time.\n",
    "\n",
    "In a scenario where all `order_items` meals are correct according to `order_type`, we move on to step 2.\n",
    "\n",
    "2. If meals are all correct in `order_items`, then the value inputted in `order_price` is incorrect. We find the correct value by using `ITEM_PRICES` to calculate the cost of the item times the amount and return the sum of these results\n",
    "    "
   ]
  },
  {
   "cell_type": "code",
   "execution_count": 40,
   "metadata": {},
   "outputs": [
    {
     "data": {
      "text/plain": [
       "{'Breakfast': {'Cereal', 'Coffee', 'Eggs', 'Pancake'},\n",
       " 'Lunch': {'Burger', 'Chicken', 'Fries', 'Salad', 'Steak'},\n",
       " 'Dinner': {'Fish&Chips', 'Pasta', 'Salmon', 'Shrimp'}}"
      ]
     },
     "execution_count": 40,
     "metadata": {},
     "output_type": "execute_result"
    }
   ],
   "source": [
    "CORRECT_MEAL_ITEMS"
   ]
  },
  {
   "cell_type": "code",
   "execution_count": 41,
   "metadata": {},
   "outputs": [],
   "source": [
    "PRICES_ITEM = {price:item for item, price in ITEM_PRICES.items()}"
   ]
  },
  {
   "cell_type": "code",
   "execution_count": 42,
   "metadata": {},
   "outputs": [
    {
     "data": {
      "text/plain": [
       "{21.0: 'Cereal',\n",
       " 22.0: 'Eggs',\n",
       " 7.5: 'Coffee',\n",
       " 24.25: 'Pancake',\n",
       " 12.0: 'Fries',\n",
       " 32.0: 'Chicken',\n",
       " 17.2: 'Salad',\n",
       " 31.0: 'Burger',\n",
       " 41.0: 'Salmon',\n",
       " 54.0: 'Shrimp',\n",
       " 35.0: 'Fish&Chips',\n",
       " 27.5: 'Pasta',\n",
       " 45.0: 'Steak'}"
      ]
     },
     "execution_count": 42,
     "metadata": {},
     "output_type": "execute_result"
    }
   ],
   "source": [
    "PRICES_ITEM"
   ]
  },
  {
   "cell_type": "code",
   "execution_count": 43,
   "metadata": {},
   "outputs": [
    {
     "data": {
      "text/plain": [
       "{'Breakfast': {'Cereal', 'Coffee', 'Eggs', 'Pancake'},\n",
       " 'Lunch': {'Burger', 'Chicken', 'Fries', 'Salad', 'Steak'},\n",
       " 'Dinner': {'Fish&Chips', 'Pasta', 'Salmon', 'Shrimp'}}"
      ]
     },
     "execution_count": 43,
     "metadata": {},
     "output_type": "execute_result"
    }
   ],
   "source": [
    "CORRECT_MEAL_ITEMS"
   ]
  },
  {
   "cell_type": "code",
   "execution_count": 44,
   "metadata": {},
   "outputs": [],
   "source": [
    "temp_df = dirty_df.copy()"
   ]
  },
  {
   "cell_type": "code",
   "execution_count": 45,
   "metadata": {},
   "outputs": [],
   "source": [
    "for index, row in temp_df.iterrows():\n",
    "    \n",
    "    unknown_item_count = 0\n",
    "    unknown_item_index = -1\n",
    "\n",
    "    # check how many item meals are unknown\n",
    "    for data_index, data in enumerate(row['order_items']):\n",
    "        if data[0] not in CORRECT_MEAL_ITEMS[row['order_type']]:\n",
    "            unknown_item_count+=1\n",
    "            unknown_item_index = data_index\n",
    "    \n",
    "    # if there is more than one unknown item, raise an error\n",
    "    if unknown_item_count > 1:\n",
    "        raise ValueError(\"More than one unknown item in order\")\n",
    "    \n",
    "\n",
    "    # if there is one unknown item, calculate the price of the unknown item\n",
    "    if unknown_item_count == 1:\n",
    "        order_price = row['order_price']\n",
    "        for item, number in row['order_items']:\n",
    "            if item in CORRECT_MEAL_ITEMS[row['order_type']]:\n",
    "                order_price -= ITEM_PRICES[item] * number\n",
    "        item_price = order_price / row['order_items'][unknown_item_index][1]\n",
    "        item_price = round(item_price,2)\n",
    "        temp_df.loc[index]['order_items'][unknown_item_index] = (PRICES_ITEM[item_price], row['order_items'][unknown_item_index][1])\n",
    "    # if there are no unknown items, calculate the price of the total order\n",
    "    else:\n",
    "        order_price = calculate_order_price(row)\n",
    "        temp_df.loc[index, 'order_price'] = order_price"
   ]
  },
  {
   "cell_type": "code",
   "execution_count": 46,
   "metadata": {},
   "outputs": [
    {
     "data": {
      "text/plain": [
       "0"
      ]
     },
     "execution_count": 46,
     "metadata": {},
     "output_type": "execute_result"
    }
   ],
   "source": [
    "temp_df['calc_order_price'] = temp_df.apply(calculate_order_price, axis=1)\n",
    "(temp_df['order_price'] != temp_df['calc_order_price']).sum()"
   ]
  },
  {
   "cell_type": "code",
   "execution_count": 47,
   "metadata": {},
   "outputs": [],
   "source": [
    "dirty_df.drop(columns=['calc_order_price'], inplace=True)"
   ]
  },
  {
   "cell_type": "markdown",
   "metadata": {},
   "source": [
    "#### Cleaning customerHasloyalty"
   ]
  },
  {
   "cell_type": "markdown",
   "metadata": {},
   "source": [
    "Check if `customerHasloyalty?` is correct. To verify if customerHasloyalty has been calculated correctly. We make use of the correct data in missing_data.csv again to create a logistic regression model to predict the customerHasLoyalty column. This logistic regression model, once generated will be able to correctly calculate the data in dirty_data.csv"
   ]
  },
  {
   "cell_type": "code",
   "execution_count": 47,
   "metadata": {},
   "outputs": [],
   "source": [
    "def calc_timeOfDay(order_type):\n",
    "    if order_type == 'Breakfast':\n",
    "        return 0\n",
    "    elif order_type == 'Lunch':\n",
    "        return 1\n",
    "    elif order_type == 'Dinner':\n",
    "        return 2"
   ]
  },
  {
   "cell_type": "code",
   "execution_count": 48,
   "metadata": {},
   "outputs": [],
   "source": [
    "# check to see if pd.datetime.dayofweek is greater than or equal to 5. Monday=0, Sunday=6\n",
    "temp_df = missing_df.dropna(subset=['date', 'order_type', 'branch_code', 'distance_to_customer_KM', 'delivery_fee'])"
   ]
  },
  {
   "cell_type": "code",
   "execution_count": 49,
   "metadata": {},
   "outputs": [],
   "source": [
    "temp_df['weekend'] = temp_df['date'].apply(lambda x: pd.to_datetime(x).dayofweek >= 5)\n",
    "temp_df['time_of_day'] = temp_df['order_type'].apply(calc_timeOfDay)"
   ]
  },
  {
   "cell_type": "markdown",
   "metadata": {},
   "source": [
    "We convert the categorical values in branch_code into numeric values to construct our logistic regression model"
   ]
  },
  {
   "cell_type": "code",
   "execution_count": 50,
   "metadata": {},
   "outputs": [],
   "source": [
    "branch_encoder = LabelEncoder()\n",
    "temp_df['branch_value'] = branch_encoder.fit_transform(temp_df['branch_code'])"
   ]
  },
  {
   "cell_type": "code",
   "execution_count": 51,
   "metadata": {},
   "outputs": [
    {
     "name": "stdout",
     "output_type": "stream",
     "text": [
      "Accuracy: 1.0\n",
      "              precision    recall  f1-score   support\n",
      "\n",
      "           0       1.00      1.00      1.00        67\n",
      "           1       1.00      1.00      1.00         3\n",
      "\n",
      "    accuracy                           1.00        70\n",
      "   macro avg       1.00      1.00      1.00        70\n",
      "weighted avg       1.00      1.00      1.00        70\n",
      "\n"
     ]
    }
   ],
   "source": [
    "\n",
    "# Split your data into features (X) and target variable (y)\n",
    "X = temp_df[['weekend', 'time_of_day', 'distance_to_customer_KM', 'delivery_fee','branch_value']]  # Features\n",
    "y = temp_df['customerHasloyalty?']  # Target variable\n",
    "\n",
    "# Split data into train and test sets\n",
    "X_train, X_test, y_train, y_test = train_test_split(X, y, test_size=0.2, random_state=0)\n",
    "\n",
    "# Initialize logistic regression model\n",
    "loyalty_log_model = LogisticRegression()\n",
    "\n",
    "# Train the model\n",
    "loyalty_log_model.fit(X_train, y_train)\n",
    "\n",
    "# Predict on test set\n",
    "y_pred = loyalty_log_model.predict(X_test)\n",
    "\n",
    "# Evaluate the model\n",
    "accuracy = accuracy_score(y_test, y_pred)\n",
    "print(\"Accuracy:\", accuracy)\n",
    "\n",
    "# Additional evaluation metrics\n",
    "print(classification_report(y_test, y_pred))\n",
    "\n"
   ]
  },
  {
   "cell_type": "code",
   "execution_count": 52,
   "metadata": {},
   "outputs": [],
   "source": [
    "dirty_df['weekend'] = dirty_df['date'].apply(lambda x: pd.to_datetime(x).dayofweek >= 5)\n",
    "dirty_df['time_of_day'] = dirty_df['order_type'].apply(calc_timeOfDay)\n",
    "dirty_df['branch_value'] = branch_encoder.transform(dirty_df['branch_code'])\n"
   ]
  },
  {
   "cell_type": "code",
   "execution_count": 53,
   "metadata": {},
   "outputs": [],
   "source": [
    "dirty_df['calc_loyalty'] = loyalty_log_model.predict(dirty_df[['weekend', 'time_of_day', 'distance_to_customer_KM', 'delivery_fee', 'branch_value']])"
   ]
  },
  {
   "cell_type": "code",
   "execution_count": 54,
   "metadata": {},
   "outputs": [
    {
     "data": {
      "text/html": [
       "<div>\n",
       "<style scoped>\n",
       "    .dataframe tbody tr th:only-of-type {\n",
       "        vertical-align: middle;\n",
       "    }\n",
       "\n",
       "    .dataframe tbody tr th {\n",
       "        vertical-align: top;\n",
       "    }\n",
       "\n",
       "    .dataframe thead th {\n",
       "        text-align: right;\n",
       "    }\n",
       "</style>\n",
       "<table border=\"1\" class=\"dataframe\">\n",
       "  <thead>\n",
       "    <tr style=\"text-align: right;\">\n",
       "      <th></th>\n",
       "      <th>customerHasloyalty?</th>\n",
       "      <th>calc_loyalty</th>\n",
       "    </tr>\n",
       "  </thead>\n",
       "  <tbody>\n",
       "    <tr>\n",
       "      <th>2</th>\n",
       "      <td>1</td>\n",
       "      <td>0</td>\n",
       "    </tr>\n",
       "    <tr>\n",
       "      <th>13</th>\n",
       "      <td>1</td>\n",
       "      <td>0</td>\n",
       "    </tr>\n",
       "    <tr>\n",
       "      <th>62</th>\n",
       "      <td>1</td>\n",
       "      <td>0</td>\n",
       "    </tr>\n",
       "    <tr>\n",
       "      <th>67</th>\n",
       "      <td>1</td>\n",
       "      <td>0</td>\n",
       "    </tr>\n",
       "    <tr>\n",
       "      <th>75</th>\n",
       "      <td>1</td>\n",
       "      <td>0</td>\n",
       "    </tr>\n",
       "    <tr>\n",
       "      <th>80</th>\n",
       "      <td>1</td>\n",
       "      <td>0</td>\n",
       "    </tr>\n",
       "    <tr>\n",
       "      <th>85</th>\n",
       "      <td>0</td>\n",
       "      <td>1</td>\n",
       "    </tr>\n",
       "    <tr>\n",
       "      <th>125</th>\n",
       "      <td>1</td>\n",
       "      <td>0</td>\n",
       "    </tr>\n",
       "    <tr>\n",
       "      <th>156</th>\n",
       "      <td>1</td>\n",
       "      <td>0</td>\n",
       "    </tr>\n",
       "    <tr>\n",
       "      <th>157</th>\n",
       "      <td>1</td>\n",
       "      <td>0</td>\n",
       "    </tr>\n",
       "  </tbody>\n",
       "</table>\n",
       "</div>"
      ],
      "text/plain": [
       "     customerHasloyalty?  calc_loyalty\n",
       "2                      1             0\n",
       "13                     1             0\n",
       "62                     1             0\n",
       "67                     1             0\n",
       "75                     1             0\n",
       "80                     1             0\n",
       "85                     0             1\n",
       "125                    1             0\n",
       "156                    1             0\n",
       "157                    1             0"
      ]
     },
     "execution_count": 54,
     "metadata": {},
     "output_type": "execute_result"
    }
   ],
   "source": [
    "dirty_df[dirty_df['calc_loyalty'] != dirty_df['customerHasloyalty?']][['customerHasloyalty?', 'calc_loyalty']].head(10)"
   ]
  },
  {
   "cell_type": "code",
   "execution_count": 55,
   "metadata": {},
   "outputs": [
    {
     "data": {
      "text/plain": [
       "38"
      ]
     },
     "execution_count": 55,
     "metadata": {},
     "output_type": "execute_result"
    }
   ],
   "source": [
    "(dirty_df['calc_loyalty'] != dirty_df['customerHasloyalty?']).sum()"
   ]
  },
  {
   "cell_type": "markdown",
   "metadata": {},
   "source": [
    "From above, we can see that in the original data, customerHasloyaty has been inputted incorrectly for 39 orders. We know that the data is issue as our logisticregression models have a 100% accuracy. Knowing this, we assign the values from `calc_loyalty` to `customerHasloyalty?` to remove the dirty data"
   ]
  },
  {
   "cell_type": "code",
   "execution_count": 56,
   "metadata": {},
   "outputs": [],
   "source": [
    "dirty_df['customerHasloyalty?'] = dirty_df['calc_loyalty']"
   ]
  },
  {
   "cell_type": "markdown",
   "metadata": {},
   "source": [
    "To verify that our data has been cleaned property, we create another logistic regression model for the data in `dirty_df` to see if the accuracy of the model is 100%"
   ]
  },
  {
   "cell_type": "code",
   "execution_count": 57,
   "metadata": {},
   "outputs": [
    {
     "name": "stdout",
     "output_type": "stream",
     "text": [
      "Accuracy: 1.0\n",
      "              precision    recall  f1-score   support\n",
      "\n",
      "           0       1.00      1.00      1.00       481\n",
      "           1       1.00      1.00      1.00        19\n",
      "\n",
      "    accuracy                           1.00       500\n",
      "   macro avg       1.00      1.00      1.00       500\n",
      "weighted avg       1.00      1.00      1.00       500\n",
      "\n"
     ]
    }
   ],
   "source": [
    "# Load your dataset\n",
    "# Assuming your data is stored in a DataFrame called df\n",
    "\n",
    "# Split your data into features (X) and target variable (y)\n",
    "X_test = dirty_df[['weekend', 'time_of_day', 'distance_to_customer_KM', 'delivery_fee', 'branch_value']]  # Features\n",
    "y_test = dirty_df['customerHasloyalty?']  # Target variable\n",
    "\n",
    "# Predict on test set\n",
    "y_pred = loyalty_log_model.predict(X_test)\n",
    "\n",
    "# Evaluate the model\n",
    "accuracy = accuracy_score(y_test, y_pred)\n",
    "print(\"Accuracy:\", accuracy)\n",
    "\n",
    "# Additional evaluation metrics\n",
    "print(classification_report(y_test, y_pred))\n",
    "\n"
   ]
  },
  {
   "cell_type": "markdown",
   "metadata": {},
   "source": [
    "Now we can save our clean df to a csv file"
   ]
  },
  {
   "cell_type": "code",
   "execution_count": 58,
   "metadata": {},
   "outputs": [],
   "source": [
    "dirty_df_sol = dirty_df.drop(columns=['weekend', 'time_of_day', 'branch_value', 'calc_loyalty'])"
   ]
  },
  {
   "cell_type": "code",
   "execution_count": 59,
   "metadata": {},
   "outputs": [],
   "source": [
    "dirty_df_sol.to_csv('output/109_dirty_data_solution.csv', index=False)"
   ]
  },
  {
   "cell_type": "markdown",
   "metadata": {},
   "source": [
    "## Imputing data"
   ]
  },
  {
   "cell_type": "code",
   "execution_count": 60,
   "metadata": {},
   "outputs": [],
   "source": [
    "outlier_sol_df = pd.read_csv(r'output\\109_Task1_outliers.csv')"
   ]
  },
  {
   "cell_type": "code",
   "execution_count": 61,
   "metadata": {},
   "outputs": [],
   "source": [
    "temp_df = missing_df.dropna(subset=['date', 'order_type', 'branch_code', 'distance_to_customer_KM', 'delivery_fee'])\n",
    "\n",
    "temp_outlier_df = outlier_sol_df.dropna(subset=['date', 'order_type', 'branch_code', 'distance_to_customer_KM', 'delivery_fee'])"
   ]
  },
  {
   "cell_type": "code",
   "execution_count": 62,
   "metadata": {},
   "outputs": [],
   "source": [
    "temp_df['weekend'] = temp_df['date'].apply(lambda x: pd.to_datetime(x).dayofweek >= 5)\n",
    "temp_df['time_of_day'] = temp_df['order_type'].apply(calc_timeOfDay)\n",
    "temp_df['branch_value'] = branch_encoder.transform(temp_df['branch_code'])"
   ]
  },
  {
   "cell_type": "code",
   "execution_count": 63,
   "metadata": {},
   "outputs": [],
   "source": [
    "model_training_df = pd.concat([temp_df])"
   ]
  },
  {
   "cell_type": "code",
   "execution_count": 105,
   "metadata": {},
   "outputs": [
    {
     "name": "stdout",
     "output_type": "stream",
     "text": [
      "R^2 Score: 0.9404256875454788\n"
     ]
    }
   ],
   "source": [
    "# Split your data into features (X) and target variable (y)\n",
    "X = model_training_df[['weekend', 'time_of_day', 'distance_to_customer_KM','branch_value', 'customerHasloyalty?']]  # Features\n",
    "y = model_training_df['delivery_fee']  # Target variable\n",
    "\n",
    "\n",
    "X_train, X_test, y_train, y_test = train_test_split(X, y, test_size=0.2, random_state=0)\n",
    "\n",
    "delivery_fee_model = LinearRegression()\n",
    "delivery_fee_model.fit(X_train, y_train)\n",
    "\n",
    "y_pred = delivery_fee_model.predict(X_test)\n",
    "\n",
    "r2 = r2_score(y_test, y_pred)\n",
    "\n",
    "print(f\"R^2 Score: {r2}\")\n"
   ]
  },
  {
   "cell_type": "markdown",
   "metadata": {},
   "source": [
    "Since there are instances in missing_df where multiple features are missing (e.g. order at index 0 where branch_code and distance_to_customer_KM), we will not be able to currently utilise "
   ]
  },
  {
   "cell_type": "code",
   "execution_count": 107,
   "metadata": {},
   "outputs": [],
   "source": [
    "fee_missing_df = missing_df[missing_df['delivery_fee'].isna()][['weekend', 'time_of_day', 'distance_to_customer_KM', 'branch_code', 'customerHasloyalty?', 'delivery_fee']]"
   ]
  },
  {
   "cell_type": "code",
   "execution_count": 108,
   "metadata": {},
   "outputs": [],
   "source": [
    "fee_missing_df['weekend'] = fee_missing_df['date'].apply(lambda x: pd.to_datetime(x).dayofweek >= 5)\n",
    "fee_missing_df['time_of_day'] = fee_missing_df['order_type'].apply(calc_timeOfDay)\n",
    "fee_missing_df['branch_value'] = branch_encoder.transform(fee_missing_df['branch_code'])"
   ]
  },
  {
   "cell_type": "code",
   "execution_count": 112,
   "metadata": {},
   "outputs": [],
   "source": [
    "fee_missing_df['calc_delivery_fee'] = delivery_fee_model.predict(fee_missing_df[['weekend', 'time_of_day', 'distance_to_customer_KM', 'branch_value', 'customerHasloyalty?']])"
   ]
  },
  {
   "cell_type": "code",
   "execution_count": 116,
   "metadata": {},
   "outputs": [
    {
     "data": {
      "text/html": [
       "<div>\n",
       "<style scoped>\n",
       "    .dataframe tbody tr th:only-of-type {\n",
       "        vertical-align: middle;\n",
       "    }\n",
       "\n",
       "    .dataframe tbody tr th {\n",
       "        vertical-align: top;\n",
       "    }\n",
       "\n",
       "    .dataframe thead th {\n",
       "        text-align: right;\n",
       "    }\n",
       "</style>\n",
       "<table border=\"1\" class=\"dataframe\">\n",
       "  <thead>\n",
       "    <tr style=\"text-align: right;\">\n",
       "      <th></th>\n",
       "      <th>weekend?</th>\n",
       "      <th>timeofday</th>\n",
       "      <th>distance_to_customer_KM</th>\n",
       "      <th>branch_code</th>\n",
       "      <th>customerHasloyalty?</th>\n",
       "      <th>delivery_fee</th>\n",
       "      <th>branch_value</th>\n",
       "      <th>calc_delivery_fee</th>\n",
       "    </tr>\n",
       "  </thead>\n",
       "  <tbody>\n",
       "    <tr>\n",
       "      <th>7</th>\n",
       "      <td>False</td>\n",
       "      <td>1</td>\n",
       "      <td>9.544</td>\n",
       "      <td>BK</td>\n",
       "      <td>0</td>\n",
       "      <td>NaN</td>\n",
       "      <td>0</td>\n",
       "      <td>15.775457</td>\n",
       "    </tr>\n",
       "    <tr>\n",
       "      <th>36</th>\n",
       "      <td>False</td>\n",
       "      <td>2</td>\n",
       "      <td>8.241</td>\n",
       "      <td>BK</td>\n",
       "      <td>0</td>\n",
       "      <td>NaN</td>\n",
       "      <td>0</td>\n",
       "      <td>15.268364</td>\n",
       "    </tr>\n",
       "    <tr>\n",
       "      <th>56</th>\n",
       "      <td>False</td>\n",
       "      <td>1</td>\n",
       "      <td>9.280</td>\n",
       "      <td>TP</td>\n",
       "      <td>0</td>\n",
       "      <td>NaN</td>\n",
       "      <td>2</td>\n",
       "      <td>12.679113</td>\n",
       "    </tr>\n",
       "    <tr>\n",
       "      <th>66</th>\n",
       "      <td>False</td>\n",
       "      <td>0</td>\n",
       "      <td>7.284</td>\n",
       "      <td>BK</td>\n",
       "      <td>0</td>\n",
       "      <td>NaN</td>\n",
       "      <td>0</td>\n",
       "      <td>12.861145</td>\n",
       "    </tr>\n",
       "    <tr>\n",
       "      <th>69</th>\n",
       "      <td>False</td>\n",
       "      <td>0</td>\n",
       "      <td>7.754</td>\n",
       "      <td>BK</td>\n",
       "      <td>0</td>\n",
       "      <td>NaN</td>\n",
       "      <td>0</td>\n",
       "      <td>13.312467</td>\n",
       "    </tr>\n",
       "  </tbody>\n",
       "</table>\n",
       "</div>"
      ],
      "text/plain": [
       "    weekend?  timeofday  distance_to_customer_KM branch_code  \\\n",
       "7      False          1                    9.544          BK   \n",
       "36     False          2                    8.241          BK   \n",
       "56     False          1                    9.280          TP   \n",
       "66     False          0                    7.284          BK   \n",
       "69     False          0                    7.754          BK   \n",
       "\n",
       "    customerHasloyalty?  delivery_fee  branch_value  calc_delivery_fee  \n",
       "7                     0           NaN             0          15.775457  \n",
       "36                    0           NaN             0          15.268364  \n",
       "56                    0           NaN             2          12.679113  \n",
       "66                    0           NaN             0          12.861145  \n",
       "69                    0           NaN             0          13.312467  "
      ]
     },
     "execution_count": 116,
     "metadata": {},
     "output_type": "execute_result"
    }
   ],
   "source": [
    "fee_missing_df.head()"
   ]
  },
  {
   "cell_type": "code",
   "execution_count": 117,
   "metadata": {},
   "outputs": [],
   "source": [
    "missing_df_sol = missing_df.copy()\n",
    "for index, row in fee_missing_df.iterrows():\n",
    "    missing_df_sol.loc[index, 'delivery_fee'] = row['calc_delivery_fee']"
   ]
  },
  {
   "cell_type": "code",
   "execution_count": 119,
   "metadata": {},
   "outputs": [
    {
     "data": {
      "text/plain": [
       "0"
      ]
     },
     "execution_count": 119,
     "metadata": {},
     "output_type": "execute_result"
    }
   ],
   "source": [
    "missing_df['delivery_fee'].isna().sum()"
   ]
  },
  {
   "cell_type": "code",
   "execution_count": 124,
   "metadata": {},
   "outputs": [],
   "source": [
    "missing_df_sol.to_csv('output/109_missing_data_solution.csv', index=False)"
   ]
  },
  {
   "cell_type": "markdown",
   "metadata": {},
   "source": [
    "## Detecting and Removing Outlier Rows in outlier_data.csv"
   ]
  },
  {
   "cell_type": "code",
   "execution_count": 65,
   "metadata": {},
   "outputs": [],
   "source": [
    "outlier_data_path = \"data\\Group109_outlier_data.csv\"\n",
    "df_outlier = pd.read_csv(outlier_data_path) # Reading the Data file path \n"
   ]
  },
  {
   "cell_type": "code",
   "execution_count": 66,
   "metadata": {},
   "outputs": [
    {
     "data": {
      "text/plain": [
       "(500, 12)"
      ]
     },
     "execution_count": 66,
     "metadata": {},
     "output_type": "execute_result"
    }
   ],
   "source": [
    "df_outlier.shape\n",
    "# df_outlier.head()"
   ]
  },
  {
   "cell_type": "code",
   "execution_count": 70,
   "metadata": {},
   "outputs": [
    {
     "data": {
      "text/plain": [
       "<Figure size 720x432 with 0 Axes>"
      ]
     },
     "metadata": {},
     "output_type": "display_data"
    },
    {
     "data": {
      "image/png": "[encoded data removed]",
      "text/plain": [
       "<Figure size 432x288 with 1 Axes>"
      ]
     },
     "metadata": {
      "needs_background": "light"
     },
     "output_type": "display_data"
    }
   ],
   "source": [
    "import matplotlib.pyplot as plt\n",
    "plt.figure(figsize=(10, 6))\n",
    "df_outlier.boxplot(column='delivery_fee', by='branch_code', grid=False) #Creatign a boxplot for delivery_fee based on the branch_code\n",
    "plt.title('Boxplot of Delivery Fee by Branch Code')\n",
    "plt.xlabel('Branch Code')\n",
    "plt.ylabel('Delivery Fee')\n",
    "plt.xticks()\n",
    "plt.show()"
   ]
  },
  {
   "cell_type": "markdown",
   "metadata": {},
   "source": [
    "The distribution of delivery fees among the three branch codes—BK, NS, and TP—is shown in the boxplot. The median delivery fee for each branch is roughly 14–15, with BK and NS having somewhat higher medians than TP. The interquartile range (IQR) of delivery_fee, varies from 11 to 18 for BK, 12 to 17 for NS, and 11 to 16 for TP. This range is largely stable between branches. For every branch, the whiskers, which show the range within 1.5 times the IQR from the quartiles, roughly span from 8 to 20. Interestingly, there are a considerable number of outliers in every branch. The outliers for BK and NS are mainly on the higher end, above 20, In contrast, TP displays a balanced distribution of outliers, with those outside of 8 and those over 18. These outliers point to sporadic departures from the usual range of delivery fees, which calls for additional research to determine the root causes. With a few noteworthy outliers, the data generally shows that the branches' delivery costs are consistent."
   ]
  },
  {
   "cell_type": "code",
   "execution_count": 71,
   "metadata": {},
   "outputs": [],
   "source": [
    "def iqr(df, column):\n",
    "    q1 = df[column].quantile(0.25)\n",
    "    q3 = df[column].quantile(0.75)\n",
    "    IQR = q3 - q1\n",
    "    l_bound = q1 - 1.5 * IQR\n",
    "    u_bound = q3 + 1.5 * IQR\n",
    "    filtered_outlier = df[(df[column] < l_bound) | (df[column] > u_bound)]\n",
    "    return filtered_outlier"
   ]
  },
  {
   "cell_type": "markdown",
   "metadata": {},
   "source": [
    "Function named iqr whose purpose is to use the Interquartile Range (IQR) method to find outliers in a delivery_fee. It computes the IQR as well as the first and third quartiles (q1 and q3). It calculates lower and upper boundaries for outlier. The Data is then filtered so that only rows with values in the designated column falling outside of these ranges are kept."
   ]
  },
  {
   "cell_type": "code",
   "execution_count": 72,
   "metadata": {},
   "outputs": [
    {
     "name": "stdout",
     "output_type": "stream",
     "text": [
      "0\n"
     ]
    }
   ],
   "source": [
    "while True:\n",
    "    outliers = iqr(df_outlier, 'delivery_fee')\n",
    "    if outliers.empty:\n",
    "        break\n",
    "    df_outlier = df_outlier.drop(outliers.index)\n",
    "df_outlier.shape\n",
    "print(len(outliers))"
   ]
  },
  {
   "cell_type": "markdown",
   "metadata": {},
   "source": [
    "The detected outliers are dropped from the original DataFrame. Ultimately, it outputs the form of the filtered DataFrame and returns it with no outliers. and the shape of the dataframe is also printed."
   ]
  },
  {
   "cell_type": "code",
   "execution_count": 73,
   "metadata": {},
   "outputs": [
    {
     "data": {
      "text/plain": [
       "<Figure size 720x432 with 0 Axes>"
      ]
     },
     "metadata": {},
     "output_type": "display_data"
    },
    {
     "data": {
      "image/png": "[encoded data removed]",
      "text/plain": [
       "<Figure size 432x288 with 1 Axes>"
      ]
     },
     "metadata": {
      "needs_background": "light"
     },
     "output_type": "display_data"
    }
   ],
   "source": [
    "plt.figure(figsize=(10, 6))\n",
    "df_outlier.boxplot(column=\"delivery_fee\",by=\"branch_code\",grid=False)\n",
    "plt.title('Boxplot of Delivery Fee by Branch Code')\n",
    "plt.xlabel('Branch Code')\n",
    "plt.ylabel('Delivery Fee')\n",
    "plt.xticks()\n",
    "plt.show()"
   ]
  },
  {
   "cell_type": "markdown",
   "metadata": {},
   "source": [
    "from the above boxplot, almost 80% of the outliers have been removed from the dataframe."
   ]
  },
  {
   "cell_type": "code",
   "execution_count": 74,
   "metadata": {},
   "outputs": [],
   "source": [
    "df_outlier.to_csv(\"109_Task1_outliers.csv\", index=False) # Writing the removed dataframe to the csv file"
   ]
  }
 ],
 "metadata": {
  "kernelspec": {
   "display_name": "base",
   "language": "python",
   "name": "python3"
  },
  "language_info": {
   "codemirror_mode": {
    "name": "ipython",
    "version": 3
   },
   "file_extension": ".py",
   "mimetype": "text/x-python",
   "name": "python",
   "nbconvert_exporter": "python",
   "pygments_lexer": "ipython3",
   "version": "3.8.8"
  }
 },
 "nbformat": 4,
 "nbformat_minor": 2
}
